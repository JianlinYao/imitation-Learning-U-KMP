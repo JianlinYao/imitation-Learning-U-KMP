{
 "cells": [
  {
   "cell_type": "markdown",
   "metadata": {},
   "source": [
    " # Python Practice for KMP (adaptation)"
   ]
  },
  {
   "cell_type": "code",
   "execution_count": 14,
   "metadata": {},
   "outputs": [],
   "source": [
    "import numpy as np\n",
    "import matplotlib.pyplot as plt\n",
    "from scipy.io import loadmat\n",
    "from copy import copy\n",
    "from utils import (load_letter_all, split_indices, preprocess_demo, denormalize,\n",
    "                   rmse, endpoint_err, jerk_score, timer, append_csv)"
   ]
  },
  {
   "cell_type": "markdown",
   "metadata": {},
   "source": [
    "#################################################<br>\n",
    "Load the training data<br>\n",
    "#################################################"
   ]
  },
  {
   "cell_type": "code",
   "execution_count": 16,
   "metadata": {},
   "outputs": [],
   "source": [
    "# === KMP 公共：核函数、参考分布、目录 ===\n",
    "import os, numpy as np\n",
    "from utils import (load_letter_all, split_indices, denormalize,\n",
    "                   rmse, endpoint_err, jerk_score, timer, append_csv)\n",
    "\n",
    "os.makedirs('results', exist_ok=True)\n",
    "os.makedirs('figs', exist_ok=True)\n",
    "\n",
    "def rbf_kernel(t1, t2, length=0.06):\n",
    "    t1 = np.asarray(t1).reshape(-1,1)\n",
    "    t2 = np.asarray(t2).reshape(-1,1)\n",
    "    d2 = (t1 - t2.T)**2\n",
    "    return np.exp(-0.5 * d2 / (length**2))\n",
    "\n",
    "def build_ref_from_train(preps_train):\n",
    "    \"\"\"训练集 → 参考分布 μ(t)、逐时刻方差 var(t)，按 (2,T) 返回\"\"\"\n",
    "    stack = np.stack([p['pos'] for p in preps_train], axis=0)  # (H,2,T)\n",
    "    mu  = stack.mean(axis=0)                                   # (2,T)\n",
    "    var = stack.var(axis=0) + 1e-8                             # (2,T)\n",
    "    return mu, var\n",
    "\n",
    "# 全局参数（按需改）\n",
    "LETTERS = ['A','B','G','H']\n",
    "T       = 200\n",
    "LENGTH  = 0.06\n",
    "LAM     = 1e-4"
   ]
  },
  {
   "cell_type": "code",
   "execution_count": 18,
   "metadata": {},
   "outputs": [],
   "source": [
    "mat = loadmat('../2Dletters/refG.mat') # The reference trajectory is extracted from five demonstrations uisng GMM/GMR\n",
    "dim = 2  # 2D trajectory\n",
    "Dim = 2 * dim # both position and velocity\n",
    "len = mat['refTraj'].shape[1] # length of the reference trajectory"
   ]
  },
  {
   "cell_type": "code",
   "execution_count": 19,
   "metadata": {},
   "outputs": [
    {
     "name": "stdout",
     "output_type": "stream",
     "text": [
      "(200,)\n",
      "(4, 200)\n",
      "(4, 800)\n"
     ]
    }
   ],
   "source": [
    "ref_t = np.zeros(len) # input of the reference trajectory\n",
    "ref_mu = np.zeros((Dim, len)) # mean of the reference trajectory\n",
    "ref_cov = np.zeros((Dim, Dim*len)) # covariance of the reference trajectory\n",
    "for i in range(len):\n",
    "    ref_t[i] = mat['refTraj'][0, i]['t']\n",
    "    ref_mu[:, i] = mat['refTraj'][0, i]['mu'][:, 0]\n",
    "    ref_cov[:, i*Dim:(i+1)*Dim] = mat['refTraj'][0, i]['sigma']\n",
    "print(ref_t.shape)\n",
    "print(ref_mu.shape)\n",
    "print(ref_cov.shape)"
   ]
  },
  {
   "cell_type": "markdown",
   "metadata": {},
   "source": [
    "#################################################<br>\n",
    "Define variables and set parameters for KMP<br>\n",
    "#################################################"
   ]
  },
  {
   "cell_type": "code",
   "execution_count": 20,
   "metadata": {},
   "outputs": [],
   "source": [
    "dt = 0.005 # time interval\n",
    "tau = dt * len # motion duration\n",
    "lb = 1  # regularization parameter\n",
    "kh = 4  # kernel parameter"
   ]
  },
  {
   "cell_type": "markdown",
   "metadata": {},
   "source": [
    "#################################################<br>\n",
    "Kernel function<br>\n",
    "#################################################"
   ]
  },
  {
   "cell_type": "code",
   "execution_count": 21,
   "metadata": {},
   "outputs": [],
   "source": [
    "def kernel(x1, x2, kh):\n",
    "    return np.exp(-kh * np.dot(x1-x2, x1-x2))"
   ]
  },
  {
   "cell_type": "code",
   "execution_count": 22,
   "metadata": {},
   "outputs": [],
   "source": [
    "def kernel_extend(ta, tb, kh, dim):\n",
    "    kt_t = kernel(ta, tb, kh)\n",
    "    kt_dt = (kernel(ta, tb+dt, kh) - kernel(ta, tb, kh)) / dt\n",
    "    kdt_t = (kernel(ta+dt, tb, kh) - kernel(ta, tb, kh)) / dt\n",
    "    kdt_dt = (kernel(ta+dt, tb+dt, kh) - kernel(ta, tb+dt, kh) - kernel(ta+dt, tb, kh) + kernel(ta, tb, kh)) / dt**2\n",
    "    kernelMatrix=np.zeros((Dim, Dim))\n",
    "    for i in range(dim):\n",
    "        kernelMatrix[i, i] = kt_t\n",
    "        kernelMatrix[i, i+dim] = kt_dt\n",
    "        kernelMatrix[i+dim, i] = kdt_t\n",
    "        kernelMatrix[i+dim, i+dim] = kdt_dt\n",
    "    return kernelMatrix"
   ]
  },
  {
   "cell_type": "code",
   "execution_count": 23,
   "metadata": {},
   "outputs": [],
   "source": [
    "def kmp_insertPoint(new_ref_t, new_ref_mu, new_ref_cov, via_time, via_point, via_var):\n",
    "    replaceFlag = 0\n",
    "    # Judge whether there is a point in the reference trajectory which is close to the desired point\n",
    "    for i in range(new_ref_t.shape[0]):\n",
    "        if np.abs(new_ref_t[i] - via_time) < 5E-4:\n",
    "            replaceFlag = 1\n",
    "            index = i\n",
    "            break\n",
    "    # Replace the nearest point in the reference trajectory with the desired point\n",
    "    if  replaceFlag == 1:\n",
    "        new_ref_t[index] = via_time\n",
    "        new_ref_mu[:, index] = via_point\n",
    "        new_ref_cov[:, index*Dim:(index+1)*Dim] = via_var\n",
    "    # Concatenate the desired point with the reference trajectory\n",
    "    else:\n",
    "        new_ref_t = np.hstack((new_ref_t, via_time))\n",
    "        new_ref_mu = np.hstack((new_ref_mu, via_point.reshape(Dim, 1)))\n",
    "        new_ref_cov = np.hstack((new_ref_cov, via_var))\n",
    "    return new_ref_t, new_ref_mu, new_ref_cov"
   ]
  },
  {
   "cell_type": "markdown",
   "metadata": {},
   "source": [
    "#########################################################<br>\n",
    "Define desired points and update the reference trajectory<br>\n",
    "#########################################################"
   ]
  },
  {
   "cell_type": "code",
   "execution_count": 24,
   "metadata": {},
   "outputs": [],
   "source": [
    "via_time1 = dt\n",
    "via_point1 = np.array([8, 10, -50, 0]) # first desired point, format:[2D pos, 2D vel]\n",
    "via_time2 = 0.6\n",
    "via_point2 = np.array([8, -4, 30, 10]) # second desired point, format:[2D pos, 2D vel]\n",
    "via_time3 = 1.0\n",
    "via_point3 = np.array([-3, 1, -10, 3]) # third desired point, format:[2D pos, 2D vel]"
   ]
  },
  {
   "cell_type": "code",
   "execution_count": 25,
   "metadata": {},
   "outputs": [],
   "source": [
    "via_var = 1E-6 * np.eye(Dim) # inversely proportional to the adaptation precision\n",
    "# via_var[2, 2] = 1000 # a large error is allowed for vx\n",
    "# via_var[3, 3] = 1000 # a large error is allowed for vy"
   ]
  },
  {
   "cell_type": "markdown",
   "metadata": {},
   "source": [
    "Determine the new probabilistic reference trajectory"
   ]
  },
  {
   "cell_type": "code",
   "execution_count": 26,
   "metadata": {},
   "outputs": [],
   "source": [
    "new_ref_t = copy(ref_t)\n",
    "new_ref_mu = copy(ref_mu)\n",
    "new_ref_cov = copy(ref_cov)\n",
    "[new_ref_t, new_ref_mu, new_ref_cov] = kmp_insertPoint(new_ref_t, new_ref_mu, new_ref_cov, via_time1, via_point1, via_var)\n",
    "[new_ref_t, new_ref_mu, new_ref_cov] = kmp_insertPoint(new_ref_t, new_ref_mu, new_ref_cov, via_time2, via_point2, via_var)\n",
    "[new_ref_t, new_ref_mu, new_ref_cov] = kmp_insertPoint(new_ref_t, new_ref_mu, new_ref_cov, via_time3, via_point3, via_var)"
   ]
  },
  {
   "cell_type": "markdown",
   "metadata": {},
   "source": [
    "#################################################<br>\n",
    "Prediction using KMP<br>\n",
    "#################################################"
   ]
  },
  {
   "cell_type": "code",
   "execution_count": 27,
   "metadata": {},
   "outputs": [],
   "source": [
    "new_len = new_ref_t.shape[0]\n",
    "Kc = np.zeros((new_len*Dim, new_len*Dim))\n",
    "for i in range(new_len):\n",
    "    for j in range(new_len):\n",
    "        Kc[i*Dim:(i+1)*Dim, j*Dim:(j+1)*Dim] = kernel_extend(new_ref_t[i], new_ref_t[j], kh, dim)\n",
    "        if i == j:\n",
    "            Kc[i*Dim:(i+1)*Dim, j*Dim:(j+1)*Dim] += lb * new_ref_cov[:, i*Dim:(i+1)*Dim]"
   ]
  },
  {
   "cell_type": "code",
   "execution_count": 28,
   "metadata": {},
   "outputs": [],
   "source": [
    "Kinv = np.linalg.pinv(Kc)\n",
    "Mu = new_ref_mu.flatten(order='F')\n",
    "KinvMu = np.matmul(Kinv, Mu) # (Kc+lb*Sigma)^{-1}*Mu"
   ]
  },
  {
   "cell_type": "code",
   "execution_count": 29,
   "metadata": {},
   "outputs": [],
   "source": [
    "ks = np.zeros((Dim, Dim*new_len))\n",
    "pred_pv = np.zeros((Dim, len))\n",
    "for i in range(len):\n",
    "    t = (i+1) * dt\n",
    "    for j in range(new_len):\n",
    "        ks[:, j*Dim:(j+1)*Dim] = kernel_extend(t, new_ref_t[j], kh, dim)\n",
    "    pred_pv[:, i] = np.matmul(ks, KinvMu) # ks*(Kc+lb*Sigma)^{-1}*Mu"
   ]
  },
  {
   "cell_type": "markdown",
   "metadata": {},
   "source": [
    "#################################################<br>\n",
    "Plot predicted trajectories<br>\n",
    "#################################################-"
   ]
  },
  {
   "cell_type": "code",
   "execution_count": 30,
   "metadata": {},
   "outputs": [
    {
     "data": {
      "image/png": "[encoded data removed]",
      "text/plain": [
       "<Figure size 432x288 with 1 Axes>"
      ]
     },
     "metadata": {
      "needs_background": "light"
     },
     "output_type": "display_data"
    }
   ],
   "source": [
    "plt.plot(pred_pv[0], pred_pv[1], 'r', label='kmp px-py', linewidth=2)\n",
    "plt.plot(ref_mu[0, :], ref_mu[1, :], 'g--', linewidth=1, label='refTraj px-py')\n",
    "plt.plot(via_point1[0], via_point1[1], 'yo')\n",
    "plt.plot(via_point2[0], via_point2[1], 'yo')\n",
    "plt.plot(via_point3[0], via_point3[1], 'yo')\n",
    "plt.xlabel(\"px\")\n",
    "plt.ylabel(\"py\")\n",
    "plt.legend()\n",
    "plt.show()"
   ]
  },
  {
   "cell_type": "code",
   "execution_count": 31,
   "metadata": {},
   "outputs": [
    {
     "data": {
      "image/png": "[encoded data removed]",
      "text/plain": [
       "<Figure size 432x288 with 2 Axes>"
      ]
     },
     "metadata": {
      "needs_background": "light"
     },
     "output_type": "display_data"
    }
   ],
   "source": [
    "ax1 = plt.subplot(2, 1, 1)\n",
    "ax1.plot(ref_t, pred_pv[0], 'r', label='kmp px', linewidth=2)\n",
    "ax1.plot(ref_t, ref_mu[0, :], 'g--', linewidth=1, label='refTraj px')\n",
    "plt.plot(via_time1, via_point1[0], 'yo')\n",
    "plt.plot(via_time2, via_point2[0], 'yo')\n",
    "plt.plot(via_time3, via_point3[0], 'yo')\n",
    "ax1.set_ylabel(\"px\")\n",
    "plt.legend()\n",
    "ax1.grid()\n",
    "ax2 = plt.subplot(2, 1, 2)\n",
    "ax2.plot(ref_t, pred_pv[1], 'r', label='kmp py', linewidth=2)\n",
    "ax2.plot(ref_t, ref_mu[1, :], 'g--', linewidth=1, label='refTraj py')\n",
    "plt.plot(via_time1, via_point1[1], 'yo')\n",
    "plt.plot(via_time2, via_point2[1], 'yo')\n",
    "plt.plot(via_time3, via_point3[1], 'yo')\n",
    "ax2.set_ylabel(\"py\")\n",
    "ax2.set_xlabel(\"t\")\n",
    "plt.legend()\n",
    "ax2.grid()\n",
    "plt.show()"
   ]
  },
  {
   "cell_type": "code",
   "execution_count": 32,
   "metadata": {},
   "outputs": [
    {
     "data": {
      "image/png": "[encoded data removed]",
      "text/plain": [
       "<Figure size 432x288 with 2 Axes>"
      ]
     },
     "metadata": {
      "needs_background": "light"
     },
     "output_type": "display_data"
    }
   ],
   "source": [
    "ax1 = plt.subplot(2, 1, 1)\n",
    "ax1.plot(ref_t, pred_pv[2], 'r', label='kmp vx', linewidth=2)\n",
    "ax1.plot(ref_t, ref_mu[2, :], 'g--', linewidth=1, label='refTraj vx')\n",
    "plt.plot(via_time1, via_point1[2], 'yo')\n",
    "plt.plot(via_time2, via_point2[2], 'yo')\n",
    "plt.plot(via_time3, via_point3[2], 'yo')\n",
    "ax1.set_ylabel(\"vx\")\n",
    "plt.legend()\n",
    "ax1.grid()\n",
    "ax2 = plt.subplot(2, 1, 2)\n",
    "ax2.plot(ref_t, pred_pv[3], 'r', label='kmp vy', linewidth=2)\n",
    "ax2.plot(ref_t, ref_mu[3, :], 'g--', linewidth=1, label='refTraj vy')\n",
    "plt.plot(via_time1, via_point1[3], 'yo')\n",
    "plt.plot(via_time2, via_point2[3], 'yo')\n",
    "plt.plot(via_time3, via_point3[3], 'yo')\n",
    "ax2.set_ylabel(\"vy\")\n",
    "ax2.set_xlabel(\"t\")\n",
    "plt.legend()\n",
    "ax2.grid()\n",
    "plt.show()"
   ]
  },
  {
   "cell_type": "code",
   "execution_count": 20,
   "metadata": {},
   "outputs": [
    {
     "name": "stdout",
     "output_type": "stream",
     "text": [
      "[KMP-repro:A] demos=10\n",
      "  fold=00 | KMP  RMSE=3.2197 end=0.9875 jerk=30368.6980 || U-KMP RMSE=3.2197 end=0.9920 jerk=30425.2620\n",
      "  fold=01 | KMP  RMSE=0.6412 end=0.7877 jerk=25013.3211 || U-KMP RMSE=0.6410 end=0.7822 jerk=24843.6552\n",
      "  fold=02 | KMP  RMSE=0.5203 end=0.6805 jerk=25733.2005 || U-KMP RMSE=0.5203 end=0.6841 jerk=25515.8777\n",
      "  fold=03 | KMP  RMSE=0.3953 end=0.0771 jerk=25353.2504 || U-KMP RMSE=0.3950 end=0.0731 jerk=25195.4625\n",
      "  fold=04 | KMP  RMSE=0.6313 end=0.3927 jerk=25229.3543 || U-KMP RMSE=0.6312 end=0.3930 jerk=25005.0578\n",
      "  fold=05 | KMP  RMSE=0.4721 end=0.1328 jerk=22347.7153 || U-KMP RMSE=0.4721 end=0.1297 jerk=22254.3654\n",
      "  fold=06 | KMP  RMSE=0.5382 end=0.2211 jerk=24444.7773 || U-KMP RMSE=0.5384 end=0.2172 jerk=24373.9736\n",
      "  fold=07 | KMP  RMSE=1.5621 end=0.0753 jerk=25528.0377 || U-KMP RMSE=1.5622 end=0.0732 jerk=25215.1909\n",
      "  fold=08 | KMP  RMSE=0.5075 end=0.9160 jerk=25277.7504 || U-KMP RMSE=0.5074 end=0.9224 jerk=25092.7589\n",
      "  fold=09 | KMP  RMSE=0.5354 end=1.1042 jerk=25695.5071 || U-KMP RMSE=0.5354 end=1.0980 jerk=25676.6030\n",
      "[KMP-repro:B] demos=12\n",
      "  fold=00 | KMP  RMSE=1.4333 end=1.1515 jerk=28902.9680 || U-KMP RMSE=1.4331 end=1.1568 jerk=29045.3727\n",
      "  fold=01 | KMP  RMSE=1.4883 end=0.3716 jerk=30573.9574 || U-KMP RMSE=1.4886 end=0.3779 jerk=30760.7217\n",
      "  fold=02 | KMP  RMSE=0.8482 end=0.3851 jerk=30165.9846 || U-KMP RMSE=0.8478 end=0.3903 jerk=30304.2661\n",
      "  fold=03 | KMP  RMSE=0.5330 end=0.1029 jerk=29752.5106 || U-KMP RMSE=0.5326 end=0.1092 jerk=29959.7679\n",
      "  fold=04 | KMP  RMSE=0.8867 end=0.5099 jerk=29127.2930 || U-KMP RMSE=0.8864 end=0.5051 jerk=29291.9402\n",
      "  fold=05 | KMP  RMSE=1.7546 end=0.2914 jerk=30710.5482 || U-KMP RMSE=1.7544 end=0.2981 jerk=30769.9419\n",
      "  fold=06 | KMP  RMSE=1.8970 end=0.9314 jerk=32728.7565 || U-KMP RMSE=1.8974 end=0.9246 jerk=33035.8348\n",
      "  fold=07 | KMP  RMSE=2.1012 end=0.5441 jerk=31273.8239 || U-KMP RMSE=2.1012 end=0.5509 jerk=31539.2949\n",
      "  fold=08 | KMP  RMSE=0.8046 end=0.4925 jerk=31665.0378 || U-KMP RMSE=0.8044 end=0.4926 jerk=31981.7878\n",
      "  fold=09 | KMP  RMSE=0.5977 end=0.1182 jerk=30848.1194 || U-KMP RMSE=0.5976 end=0.1126 jerk=31300.4171\n",
      "  fold=10 | KMP  RMSE=0.7609 end=0.5021 jerk=30633.7446 || U-KMP RMSE=0.7610 end=0.5012 jerk=30653.4361\n",
      "  fold=11 | KMP  RMSE=2.1295 end=0.9422 jerk=32462.1471 || U-KMP RMSE=2.1297 end=0.9343 jerk=32499.4671\n",
      "[KMP-repro:G] demos=13\n",
      "  fold=00 | KMP  RMSE=1.9343 end=0.4096 jerk=9991.8103 || U-KMP RMSE=1.9343 end=0.4095 jerk=10069.0684\n",
      "  fold=01 | KMP  RMSE=0.8689 end=0.4729 jerk=10727.4330 || U-KMP RMSE=0.8689 end=0.4729 jerk=10882.3010\n",
      "  fold=02 | KMP  RMSE=1.5450 end=0.2868 jerk=12851.5604 || U-KMP RMSE=1.5450 end=0.2883 jerk=12910.7041\n",
      "  fold=03 | KMP  RMSE=0.5710 end=0.5454 jerk=11683.4941 || U-KMP RMSE=0.5711 end=0.5469 jerk=11710.7884\n",
      "  fold=04 | KMP  RMSE=0.9533 end=0.5184 jerk=11755.4101 || U-KMP RMSE=0.9533 end=0.5188 jerk=11856.7268\n",
      "  fold=05 | KMP  RMSE=1.1455 end=0.8254 jerk=11484.6279 || U-KMP RMSE=1.1455 end=0.8256 jerk=11673.0030\n",
      "  fold=06 | KMP  RMSE=1.6332 end=0.4892 jerk=11351.2374 || U-KMP RMSE=1.6332 end=0.4894 jerk=11348.7921\n",
      "  fold=07 | KMP  RMSE=1.2850 end=0.5224 jerk=11353.0305 || U-KMP RMSE=1.2850 end=0.5227 jerk=11503.9125\n",
      "  fold=08 | KMP  RMSE=1.0259 end=0.9062 jerk=12672.5704 || U-KMP RMSE=1.0259 end=0.9060 jerk=12810.0178\n",
      "  fold=09 | KMP  RMSE=0.7228 end=0.1864 jerk=11034.3438 || U-KMP RMSE=0.7228 end=0.1859 jerk=11224.6093\n",
      "  fold=10 | KMP  RMSE=1.1305 end=0.2848 jerk=10929.4062 || U-KMP RMSE=1.1306 end=0.2851 jerk=11050.0990\n",
      "  fold=11 | KMP  RMSE=2.5134 end=0.4111 jerk=11253.0471 || U-KMP RMSE=2.5134 end=0.4112 jerk=11413.0262\n",
      "  fold=12 | KMP  RMSE=1.3478 end=0.5762 jerk=11957.9006 || U-KMP RMSE=1.3478 end=0.5762 jerk=12075.6286\n",
      "[KMP-repro:H] demos=13\n",
      "  fold=00 | KMP  RMSE=1.5001 end=0.5951 jerk=24050.8715 || U-KMP RMSE=1.5000 end=0.5843 jerk=23829.7605\n",
      "  fold=01 | KMP  RMSE=1.0405 end=0.5107 jerk=22863.7204 || U-KMP RMSE=1.0401 end=0.5187 jerk=22679.9184\n",
      "  fold=02 | KMP  RMSE=0.9855 end=0.7336 jerk=22075.0572 || U-KMP RMSE=0.9856 end=0.7424 jerk=21856.5519\n",
      "  fold=03 | KMP  RMSE=1.2201 end=0.9169 jerk=21957.9758 || U-KMP RMSE=1.2199 end=0.9082 jerk=21782.1188\n",
      "  fold=04 | KMP  RMSE=1.3558 end=0.7861 jerk=22353.1336 || U-KMP RMSE=1.3560 end=0.7960 jerk=22256.0451\n",
      "  fold=05 | KMP  RMSE=0.6475 end=0.5252 jerk=21425.8048 || U-KMP RMSE=0.6471 end=0.5260 jerk=21389.6156\n",
      "  fold=06 | KMP  RMSE=1.4923 end=0.7840 jerk=19913.6193 || U-KMP RMSE=1.4920 end=0.7761 jerk=19958.7544\n",
      "  fold=07 | KMP  RMSE=2.3663 end=0.9478 jerk=24810.0683 || U-KMP RMSE=2.3663 end=0.9439 jerk=24800.9488\n",
      "  fold=08 | KMP  RMSE=1.9442 end=1.3002 jerk=22930.1257 || U-KMP RMSE=1.9446 end=1.2975 jerk=22849.3388\n",
      "  fold=09 | KMP  RMSE=0.8154 end=0.1571 jerk=21373.0430 || U-KMP RMSE=0.8153 end=0.1611 jerk=21222.9733\n",
      "  fold=10 | KMP  RMSE=1.0032 end=0.9451 jerk=22383.3185 || U-KMP RMSE=1.0034 end=0.9500 jerk=22128.3699\n",
      "  fold=11 | KMP  RMSE=1.0840 end=0.3390 jerk=21872.0247 || U-KMP RMSE=1.0835 end=0.3298 jerk=21745.3925\n",
      "  fold=12 | KMP  RMSE=1.9462 end=0.9142 jerk=22453.3663 || U-KMP RMSE=1.9465 end=0.9243 jerk=22369.3571\n",
      "Done -> results/reproduction_LOO_kmp_ada.csv and results/reproduction_LOO_ukmp_ada.csv\n"
     ]
    }
   ],
   "source": [
    "# === A. KMP / U-KMP : LOO reproduction ===\n",
    "from utils import denormalize  # 可能上面已导入，这里确保可用\n",
    "\n",
    "def kmp_predict_1d(mu_d, var_d, t_ref, t_query, length=LENGTH, lam=LAM, use_u=False):\n",
    "    K_rr = rbf_kernel(t_ref,   t_ref,   length)\n",
    "    K_qr = rbf_kernel(t_query, t_ref,   length)\n",
    "    if use_u:\n",
    "        R = lam * np.diag(var_d)           # U-KMP：不确定性感知\n",
    "    else:\n",
    "        R = lam * np.eye(len(t_ref))       # KMP：常数正则\n",
    "    alpha = np.linalg.solve(K_rr + R, mu_d)\n",
    "    return K_qr @ alpha\n",
    "\n",
    "csv_header = ['method','letter','fold','rmse','end_err','jerk','train_ms','infer_ms']\n",
    "csv_kmp    = 'results/reproduction_LOO_kmp_ada.csv'\n",
    "csv_ukmp   = 'results/reproduction_LOO_ukmp_ada.csv'\n",
    "\n",
    "for letter in LETTERS:\n",
    "    preps = load_letter_all(letter, T=T, norm='zscore')\n",
    "    N = len(preps)\n",
    "    print(f'[KMP-repro:{letter}] demos={N}')\n",
    "    for fold in range(N):\n",
    "        tr_idx, te_idx = split_indices(N, mode='loo', loo_test=fold)\n",
    "        preps_tr = [preps[i] for i in tr_idx]\n",
    "        prep_te  = preps[te_idx[0]]\n",
    "\n",
    "        with timer() as t_train:\n",
    "            mu, var = build_ref_from_train(preps_tr)  # (2,T)\n",
    "            t_ref = np.linspace(0,1,mu.shape[1])\n",
    "        train_ms = t_train()\n",
    "\n",
    "        t_q = np.linspace(0,1,prep_te['pos'].shape[1])\n",
    "\n",
    "        # KMP\n",
    "        with timer() as t_infer:\n",
    "            y_pred_n = np.vstack([\n",
    "                kmp_predict_1d(mu[0], var[0], t_ref, t_q, LENGTH, LAM, use_u=False),\n",
    "                kmp_predict_1d(mu[1], var[1], t_ref, t_q, LENGTH, LAM, use_u=False)\n",
    "            ])\n",
    "        infer_ms = t_infer()\n",
    "        y_pred = denormalize(y_pred_n, prep_te['stats'])\n",
    "        y_true = denormalize(prep_te['pos'], prep_te['stats'])\n",
    "        m = rmse(y_true, y_pred); e = endpoint_err(y_true, y_pred); j = jerk_score(y_pred, prep_te['dt'])\n",
    "        append_csv(csv_kmp,  csv_header, ['KMP',  letter, fold, m, e, j, train_ms, infer_ms])\n",
    "\n",
    "        # U-KMP\n",
    "        with timer() as t_infer2:\n",
    "            y_pred_n2 = np.vstack([\n",
    "                kmp_predict_1d(mu[0], var[0], t_ref, t_q, LENGTH, LAM, use_u=True),\n",
    "                kmp_predict_1d(mu[1], var[1], t_ref, t_q, LENGTH, LAM, use_u=True)\n",
    "            ])\n",
    "        infer_ms2 = t_infer2()\n",
    "        y_pred2 = denormalize(y_pred_n2, prep_te['stats'])\n",
    "        m2 = rmse(y_true, y_pred2); e2 = endpoint_err(y_true, y_pred2); j2 = jerk_score(y_pred2, prep_te['dt'])\n",
    "        append_csv(csv_ukmp, csv_header, ['U-KMP', letter, fold, m2, e2, j2, train_ms, infer_ms2])\n",
    "\n",
    "        print(f'  fold={fold:02d} | KMP  RMSE={m:.4f} end={e:.4f} jerk={j:.4f} '\n",
    "              f'|| U-KMP RMSE={m2:.4f} end={e2:.4f} jerk={j2:.4f}')\n",
    "print('Done ->', csv_kmp, 'and', csv_ukmp)"
   ]
  },
  {
   "cell_type": "code",
   "execution_count": 22,
   "metadata": {},
   "outputs": [
    {
     "name": "stdout",
     "output_type": "stream",
     "text": [
      "[KMP-missing:A] demos=10\n",
      "  fold=00 p=0.6 | KMP  RMSE=0.8184 end=0.9921 jerk=30830.0567 || U-KMP RMSE=0.6386 end=0.9921 jerk=34902.5966\n",
      "  fold=00 p=0.4 | KMP  RMSE=1.8688 end=0.9921 jerk=29028.3010 || U-KMP RMSE=2.0200 end=0.9921 jerk=34608.8289\n",
      "  fold=01 p=0.6 | KMP  RMSE=0.6226 end=0.7820 jerk=37285.7114 || U-KMP RMSE=0.9236 end=0.7820 jerk=46997.2509\n",
      "  fold=01 p=0.4 | KMP  RMSE=0.5074 end=0.7820 jerk=35892.1482 || U-KMP RMSE=0.6530 end=0.7820 jerk=38890.9574\n",
      "  fold=02 p=0.6 | KMP  RMSE=0.9339 end=0.6850 jerk=37409.6517 || U-KMP RMSE=0.9275 end=0.6850 jerk=49050.5988\n",
      "  fold=02 p=0.4 | KMP  RMSE=0.4766 end=0.6850 jerk=31262.7974 || U-KMP RMSE=0.5099 end=0.6850 jerk=33042.7003\n",
      "  fold=03 p=0.6 | KMP  RMSE=0.5617 end=0.0720 jerk=37137.2020 || U-KMP RMSE=0.5604 end=0.0720 jerk=40070.6627\n",
      "  fold=03 p=0.4 | KMP  RMSE=0.4898 end=0.0720 jerk=37175.2020 || U-KMP RMSE=1.7859 end=0.0720 jerk=53575.9376\n",
      "  fold=04 p=0.6 | KMP  RMSE=1.0761 end=0.3930 jerk=44400.4003 || U-KMP RMSE=1.1399 end=0.3930 jerk=51015.2144\n",
      "  fold=04 p=0.4 | KMP  RMSE=0.3975 end=0.3930 jerk=28721.5714 || U-KMP RMSE=0.6596 end=0.3930 jerk=32437.4499\n",
      "  fold=05 p=0.6 | KMP  RMSE=0.4918 end=0.1286 jerk=40614.3052 || U-KMP RMSE=0.9188 end=0.1286 jerk=51668.6747\n",
      "  fold=05 p=0.4 | KMP  RMSE=0.2966 end=0.1286 jerk=31020.0144 || U-KMP RMSE=0.3328 end=0.1286 jerk=31243.6345\n",
      "  fold=06 p=0.6 | KMP  RMSE=1.2416 end=0.2164 jerk=51357.2941 || U-KMP RMSE=2.6641 end=0.2164 jerk=70994.9595\n",
      "  fold=06 p=0.4 | KMP  RMSE=0.6319 end=0.2164 jerk=36600.0426 || U-KMP RMSE=1.1552 end=0.2164 jerk=43683.8288\n",
      "  fold=07 p=0.6 | KMP  RMSE=1.0137 end=0.0729 jerk=48738.8044 || U-KMP RMSE=3.6417 end=0.0729 jerk=84073.6020\n",
      "  fold=07 p=0.4 | KMP  RMSE=1.1192 end=0.0729 jerk=35304.1422 || U-KMP RMSE=1.3416 end=0.0729 jerk=39137.2983\n",
      "  fold=08 p=0.6 | KMP  RMSE=0.5286 end=0.9226 jerk=34722.3744 || U-KMP RMSE=0.7329 end=0.9226 jerk=39986.6376\n",
      "  fold=08 p=0.4 | KMP  RMSE=0.6052 end=0.9226 jerk=31444.3134 || U-KMP RMSE=0.8841 end=0.9226 jerk=36173.0129\n",
      "  fold=09 p=0.6 | KMP  RMSE=0.4466 end=1.0979 jerk=39334.4608 || U-KMP RMSE=0.6142 end=1.0979 jerk=45177.6370\n",
      "  fold=09 p=0.4 | KMP  RMSE=0.4420 end=1.0979 jerk=36790.2692 || U-KMP RMSE=0.5325 end=1.0979 jerk=39015.2576\n",
      "[KMP-missing:B] demos=12\n",
      "  fold=00 p=0.6 | KMP  RMSE=0.7562 end=1.1566 jerk=53538.8432 || U-KMP RMSE=2.3653 end=1.1566 jerk=77397.9039\n",
      "  fold=00 p=0.4 | KMP  RMSE=1.0486 end=1.1566 jerk=39699.2159 || U-KMP RMSE=1.0589 end=1.1566 jerk=40962.1042\n",
      "  fold=01 p=0.6 | KMP  RMSE=1.0581 end=0.3777 jerk=51924.5293 || U-KMP RMSE=1.9419 end=0.3777 jerk=64038.0654\n",
      "  fold=01 p=0.4 | KMP  RMSE=0.7611 end=0.3777 jerk=32728.0977 || U-KMP RMSE=0.9650 end=0.3777 jerk=34139.6717\n",
      "  fold=02 p=0.6 | KMP  RMSE=0.9280 end=0.3907 jerk=58857.4261 || U-KMP RMSE=0.7023 end=0.3907 jerk=58473.8379\n",
      "  fold=02 p=0.4 | KMP  RMSE=0.6129 end=0.3907 jerk=40066.4234 || U-KMP RMSE=0.8302 end=0.3907 jerk=43607.2179\n",
      "  fold=03 p=0.6 | KMP  RMSE=1.2900 end=0.1090 jerk=53924.5328 || U-KMP RMSE=1.1590 end=0.1090 jerk=58214.3806\n",
      "  fold=03 p=0.4 | KMP  RMSE=0.3692 end=0.1090 jerk=34500.6629 || U-KMP RMSE=0.7037 end=0.1090 jerk=36632.9311\n",
      "  fold=04 p=0.6 | KMP  RMSE=0.4267 end=0.5048 jerk=48179.4766 || U-KMP RMSE=0.6653 end=0.5048 jerk=56774.2102\n",
      "  fold=04 p=0.4 | KMP  RMSE=0.5300 end=0.5048 jerk=42692.8712 || U-KMP RMSE=1.5566 end=0.5048 jerk=55084.4178\n",
      "  fold=05 p=0.6 | KMP  RMSE=1.1299 end=0.2983 jerk=69365.0279 || U-KMP RMSE=3.3015 end=0.2983 jerk=93454.9355\n",
      "  fold=05 p=0.4 | KMP  RMSE=1.4909 end=0.2983 jerk=52359.6063 || U-KMP RMSE=1.5735 end=0.2983 jerk=53841.6677\n",
      "  fold=06 p=0.6 | KMP  RMSE=1.4309 end=0.9248 jerk=37058.3000 || U-KMP RMSE=2.4210 end=0.9248 jerk=44874.8564\n",
      "  fold=06 p=0.4 | KMP  RMSE=1.6162 end=0.9248 jerk=36534.4230 || U-KMP RMSE=1.7599 end=0.9248 jerk=39423.0085\n",
      "  fold=07 p=0.6 | KMP  RMSE=2.4032 end=0.5509 jerk=81141.7275 || U-KMP RMSE=3.6690 end=0.5509 jerk=101315.6400\n",
      "  fold=07 p=0.4 | KMP  RMSE=1.6206 end=0.5509 jerk=44233.1864 || U-KMP RMSE=1.8385 end=0.5509 jerk=50855.9564\n",
      "  fold=08 p=0.6 | KMP  RMSE=0.9851 end=0.4930 jerk=61296.3945 || U-KMP RMSE=2.1756 end=0.4930 jerk=75749.0564\n",
      "  fold=08 p=0.4 | KMP  RMSE=0.7343 end=0.4930 jerk=39711.3544 || U-KMP RMSE=1.3195 end=0.4930 jerk=46501.9458\n",
      "  fold=09 p=0.6 | KMP  RMSE=0.5606 end=0.1122 jerk=55229.1846 || U-KMP RMSE=2.5767 end=0.1122 jerk=83469.2655\n",
      "  fold=09 p=0.4 | KMP  RMSE=0.5827 end=0.1122 jerk=44432.3123 || U-KMP RMSE=1.0494 end=0.1122 jerk=49030.6123\n",
      "  fold=10 p=0.6 | KMP  RMSE=1.9168 end=0.5016 jerk=65524.7085 || U-KMP RMSE=3.5093 end=0.5016 jerk=90915.7616\n",
      "  fold=10 p=0.4 | KMP  RMSE=0.8420 end=0.5016 jerk=39254.9305 || U-KMP RMSE=1.3829 end=0.5016 jerk=53332.3416\n",
      "  fold=11 p=0.6 | KMP  RMSE=1.6667 end=0.9343 jerk=39684.3543 || U-KMP RMSE=1.5956 end=0.9343 jerk=56287.3105\n",
      "  fold=11 p=0.4 | KMP  RMSE=1.8830 end=0.9343 jerk=40556.7989 || U-KMP RMSE=2.3908 end=0.9343 jerk=53907.2545\n",
      "[KMP-missing:G] demos=13\n",
      "  fold=00 p=0.6 | KMP  RMSE=1.0758 end=0.4095 jerk=22693.8924 || U-KMP RMSE=0.7819 end=0.4095 jerk=27408.5607\n",
      "  fold=00 p=0.4 | KMP  RMSE=1.3191 end=0.4095 jerk=21530.9980 || U-KMP RMSE=1.5587 end=0.4095 jerk=34835.5785\n",
      "  fold=01 p=0.6 | KMP  RMSE=0.6682 end=0.4729 jerk=30129.3704 || U-KMP RMSE=0.4839 end=0.4729 jerk=31985.9302\n",
      "  fold=01 p=0.4 | KMP  RMSE=0.7051 end=0.4729 jerk=18180.7896 || U-KMP RMSE=0.4778 end=0.4729 jerk=21511.2572\n",
      "  fold=02 p=0.6 | KMP  RMSE=0.6721 end=0.2883 jerk=19090.7359 || U-KMP RMSE=0.5422 end=0.2883 jerk=23715.3341\n",
      "  fold=02 p=0.4 | KMP  RMSE=0.7747 end=0.2883 jerk=19861.5430 || U-KMP RMSE=1.0369 end=0.2883 jerk=20991.9810\n",
      "  fold=03 p=0.6 | KMP  RMSE=0.5600 end=0.5470 jerk=28431.4718 || U-KMP RMSE=0.5635 end=0.5470 jerk=30647.5664\n",
      "  fold=03 p=0.4 | KMP  RMSE=0.4940 end=0.5470 jerk=18899.9474 || U-KMP RMSE=0.8394 end=0.5470 jerk=25658.1548\n",
      "  fold=04 p=0.6 | KMP  RMSE=0.3136 end=0.5189 jerk=20998.3669 || U-KMP RMSE=0.6319 end=0.5189 jerk=25631.0957\n",
      "  fold=04 p=0.4 | KMP  RMSE=0.4601 end=0.5189 jerk=19972.9697 || U-KMP RMSE=0.5216 end=0.5189 jerk=22548.6104\n",
      "  fold=05 p=0.6 | KMP  RMSE=0.6739 end=0.8256 jerk=27781.7964 || U-KMP RMSE=0.5790 end=0.8256 jerk=32674.8020\n",
      "  fold=05 p=0.4 | KMP  RMSE=0.4911 end=0.8256 jerk=23611.4388 || U-KMP RMSE=1.0832 end=0.8256 jerk=34527.7503\n",
      "  fold=06 p=0.6 | KMP  RMSE=0.8123 end=0.4894 jerk=29703.3985 || U-KMP RMSE=0.5840 end=0.4894 jerk=32448.9165\n",
      "  fold=06 p=0.4 | KMP  RMSE=0.9009 end=0.4894 jerk=20353.0420 || U-KMP RMSE=0.5276 end=0.4894 jerk=21075.7727\n",
      "  fold=07 p=0.6 | KMP  RMSE=0.4715 end=0.5226 jerk=26827.1133 || U-KMP RMSE=0.5908 end=0.5226 jerk=30643.4647\n",
      "  fold=07 p=0.4 | KMP  RMSE=0.9190 end=0.5226 jerk=20669.7838 || U-KMP RMSE=0.6732 end=0.5226 jerk=24998.9196\n",
      "  fold=08 p=0.6 | KMP  RMSE=0.6575 end=0.9058 jerk=28771.0083 || U-KMP RMSE=0.6321 end=0.9058 jerk=34519.3777\n",
      "  fold=08 p=0.4 | KMP  RMSE=0.8587 end=0.9058 jerk=21267.0106 || U-KMP RMSE=0.6394 end=0.9058 jerk=27077.7972\n",
      "  fold=09 p=0.6 | KMP  RMSE=0.5837 end=0.1857 jerk=28956.3825 || U-KMP RMSE=1.0659 end=0.1857 jerk=37010.0950\n",
      "  fold=09 p=0.4 | KMP  RMSE=0.6665 end=0.1857 jerk=22854.0226 || U-KMP RMSE=0.5709 end=0.1857 jerk=22990.1140\n",
      "  fold=10 p=0.6 | KMP  RMSE=0.6120 end=0.2851 jerk=21002.1682 || U-KMP RMSE=1.1507 end=0.2851 jerk=28806.5735\n",
      "  fold=10 p=0.4 | KMP  RMSE=0.8848 end=0.2851 jerk=18486.1432 || U-KMP RMSE=0.8535 end=0.2851 jerk=20829.7613\n",
      "  fold=11 p=0.6 | KMP  RMSE=0.5397 end=0.4112 jerk=23595.7441 || U-KMP RMSE=0.3732 end=0.4112 jerk=24525.0337\n",
      "  fold=11 p=0.4 | KMP  RMSE=1.0356 end=0.4112 jerk=27433.9485 || U-KMP RMSE=0.9004 end=0.4112 jerk=30108.1321\n",
      "  fold=12 p=0.6 | KMP  RMSE=0.4781 end=0.5764 jerk=21994.3323 || U-KMP RMSE=0.5474 end=0.5764 jerk=25645.8910\n",
      "  fold=12 p=0.4 | KMP  RMSE=0.6329 end=0.5764 jerk=20170.5367 || U-KMP RMSE=0.9228 end=0.5764 jerk=23615.3905\n",
      "[KMP-missing:H] demos=13\n",
      "  fold=00 p=0.6 | KMP  RMSE=1.0203 end=0.5838 jerk=35688.8382 || U-KMP RMSE=2.1593 end=0.5838 jerk=49369.9616\n",
      "  fold=00 p=0.4 | KMP  RMSE=1.0667 end=0.5838 jerk=30908.4222 || U-KMP RMSE=2.2513 end=0.5838 jerk=49267.5549\n",
      "  fold=01 p=0.6 | KMP  RMSE=0.7172 end=0.5197 jerk=45251.7473 || U-KMP RMSE=0.9243 end=0.5197 jerk=49213.5733\n",
      "  fold=01 p=0.4 | KMP  RMSE=0.9037 end=0.5197 jerk=35877.5785 || U-KMP RMSE=1.0854 end=0.5197 jerk=38986.3584\n",
      "  fold=02 p=0.6 | KMP  RMSE=0.6977 end=0.7433 jerk=41202.6156 || U-KMP RMSE=1.3555 end=0.7433 jerk=52658.8800\n",
      "  fold=02 p=0.4 | KMP  RMSE=0.9955 end=0.7433 jerk=34603.1004 || U-KMP RMSE=1.2956 end=0.7433 jerk=45176.0775\n",
      "  fold=03 p=0.6 | KMP  RMSE=0.9457 end=0.9073 jerk=49127.1238 || U-KMP RMSE=2.3260 end=0.9073 jerk=69086.7415\n",
      "  fold=03 p=0.4 | KMP  RMSE=0.9782 end=0.9073 jerk=35343.8348 || U-KMP RMSE=2.1727 end=0.9073 jerk=53002.8321\n",
      "  fold=04 p=0.6 | KMP  RMSE=1.0000 end=0.7968 jerk=48352.6894 || U-KMP RMSE=1.2287 end=0.7968 jerk=50090.7443\n",
      "  fold=04 p=0.4 | KMP  RMSE=1.3134 end=0.7968 jerk=42491.2094 || U-KMP RMSE=1.3464 end=0.7968 jerk=47663.4727\n",
      "  fold=05 p=0.6 | KMP  RMSE=0.8669 end=0.5265 jerk=42820.6343 || U-KMP RMSE=2.4709 end=0.5265 jerk=62052.6749\n",
      "  fold=05 p=0.4 | KMP  RMSE=0.5419 end=0.5265 jerk=29319.7668 || U-KMP RMSE=1.1331 end=0.5265 jerk=31790.6387\n",
      "  fold=06 p=0.6 | KMP  RMSE=1.2381 end=0.7753 jerk=47270.5792 || U-KMP RMSE=1.8798 end=0.7753 jerk=55617.3955\n",
      "  fold=06 p=0.4 | KMP  RMSE=1.3378 end=0.7753 jerk=26480.7885 || U-KMP RMSE=1.7481 end=0.7753 jerk=29982.7866\n",
      "  fold=07 p=0.6 | KMP  RMSE=1.3142 end=0.9441 jerk=54471.1356 || U-KMP RMSE=2.0566 end=0.9441 jerk=71352.6802\n",
      "  fold=07 p=0.4 | KMP  RMSE=2.0643 end=0.9441 jerk=35431.6564 || U-KMP RMSE=1.6123 end=0.9441 jerk=41992.4437\n",
      "  fold=08 p=0.6 | KMP  RMSE=1.0114 end=1.2971 jerk=53060.8499 || U-KMP RMSE=0.5459 end=1.2971 jerk=60365.3911\n",
      "  fold=08 p=0.4 | KMP  RMSE=1.1848 end=1.2971 jerk=51010.2330 || U-KMP RMSE=1.7823 end=1.2971 jerk=58914.0533\n",
      "  fold=09 p=0.6 | KMP  RMSE=0.6556 end=0.1610 jerk=56062.1721 || U-KMP RMSE=0.9536 end=0.1610 jerk=63421.2965\n",
      "  fold=09 p=0.4 | KMP  RMSE=0.5756 end=0.1610 jerk=41834.6258 || U-KMP RMSE=0.9731 end=0.1610 jerk=47594.9450\n",
      "  fold=10 p=0.6 | KMP  RMSE=0.8031 end=0.9499 jerk=62858.1915 || U-KMP RMSE=0.5506 end=0.9499 jerk=62771.9324\n",
      "  fold=10 p=0.4 | KMP  RMSE=1.4646 end=0.9499 jerk=54379.3885 || U-KMP RMSE=2.7671 end=0.9499 jerk=67886.2388\n",
      "  fold=11 p=0.6 | KMP  RMSE=0.5167 end=0.3290 jerk=50973.1131 || U-KMP RMSE=1.3519 end=0.3290 jerk=57702.8337\n",
      "  fold=11 p=0.4 | KMP  RMSE=0.9210 end=0.3290 jerk=35986.1949 || U-KMP RMSE=1.2744 end=0.3290 jerk=34656.3656\n",
      "  fold=12 p=0.6 | KMP  RMSE=1.8703 end=0.9249 jerk=52689.9115 || U-KMP RMSE=2.0469 end=0.9249 jerk=58112.8316\n",
      "  fold=12 p=0.4 | KMP  RMSE=1.6213 end=0.9249 jerk=40290.2591 || U-KMP RMSE=1.6130 end=0.9249 jerk=45053.6772\n",
      "Done -> results/missing_kmp_ada.csv and results/missing_ukmp_ada.csv\n"
     ]
    }
   ],
   "source": [
    "# === B. KMP / U-KMP : Missing (prefix) completion ===\n",
    "p_list     = [0.6, 0.4]  # 前 60% / 40% 作为观测\n",
    "csv_miss_kmp  = 'results/missing_kmp_ada.csv'\n",
    "csv_miss_ukmp = 'results/missing_ukmp_ada.csv'\n",
    "csv_header    = ['method','letter','fold','p','rmse','end_err','jerk','train_ms','infer_ms']\n",
    "\n",
    "for letter in LETTERS:\n",
    "    preps = load_letter_all(letter, T=T, norm='zscore')\n",
    "    N = len(preps)\n",
    "    print(f'[KMP-missing:{letter}] demos={N}')\n",
    "    for fold in range(N):\n",
    "        tr_idx, te_idx = split_indices(N, mode='loo', loo_test=fold)\n",
    "        preps_tr = [preps[i] for i in tr_idx]\n",
    "        prep_te  = preps[te_idx[0]]\n",
    "\n",
    "        with timer() as t_train:\n",
    "            mu, var = build_ref_from_train(preps_tr)\n",
    "            t = np.linspace(0,1,mu.shape[1])\n",
    "            K = rbf_kernel(t, t, LENGTH)      # (T,T)\n",
    "        train_ms = t_train()\n",
    "\n",
    "        for p in p_list:\n",
    "            L   = int(T * p)\n",
    "            idx = np.arange(L)\n",
    "            # 普通 KMP 条件化\n",
    "            with timer() as t_infer:\n",
    "                y_pred_n = np.zeros_like(prep_te['pos'])\n",
    "                for d in range(2):\n",
    "                    mu_d  = mu[d]\n",
    "                    y_obs = prep_te['pos'][d, :L]\n",
    "                    K_oo  = K[np.ix_(idx, idx)]\n",
    "                    K_to  = K[:, idx]\n",
    "                    R     = LAM * np.eye(L)\n",
    "                    alpha = np.linalg.solve(K_oo + R, (y_obs - mu_d[idx]))\n",
    "                    y_pred_n[d] = mu_d + K_to @ alpha\n",
    "            infer_ms = t_infer()\n",
    "\n",
    "            y_pred = denormalize(y_pred_n, prep_te['stats'])\n",
    "            y_true = denormalize(prep_te['pos'], prep_te['stats'])\n",
    "            m = rmse(y_true, y_pred); e = endpoint_err(y_true, y_pred); j = jerk_score(y_pred, prep_te['dt'])\n",
    "            append_csv(csv_miss_kmp,  csv_header, ['KMP', letter, fold, p, m, e, j, train_ms, infer_ms])\n",
    "\n",
    "            # U-KMP 条件化（观测噪声与参考方差成正比）\n",
    "            with timer() as t_infer2:\n",
    "                y_pred_n2 = np.zeros_like(prep_te['pos'])\n",
    "                for d in range(2):\n",
    "                    mu_d  = mu[d]\n",
    "                    y_obs = prep_te['pos'][d, :L]\n",
    "                    K_oo  = K[np.ix_(idx, idx)]\n",
    "                    K_to  = K[:, idx]\n",
    "                    R     = LAM * np.diag(var[d, :L])\n",
    "                    alpha = np.linalg.solve(K_oo + R, (y_obs - mu_d[idx]))\n",
    "                    y_pred_n2[d] = mu_d + K_to @ alpha\n",
    "            infer_ms2 = t_infer2()\n",
    "\n",
    "            y_pred2 = denormalize(y_pred_n2, prep_te['stats'])\n",
    "            m2 = rmse(y_true, y_pred2); e2 = endpoint_err(y_true, y_pred2); j2 = jerk_score(y_pred2, prep_te['dt'])\n",
    "            append_csv(csv_miss_ukmp, csv_header, ['U-KMP', letter, fold, p, m2, e2, j2, train_ms, infer_ms2])\n",
    "\n",
    "            print(f'  fold={fold:02d} p={p:.1f} | KMP  RMSE={m:.4f} end={e:.4f} jerk={j:.4f} '\n",
    "                  f'|| U-KMP RMSE={m2:.4f} end={e2:.4f} jerk={j2:.4f}')\n",
    "print('Done ->', csv_miss_kmp, 'and', csv_miss_ukmp)"
   ]
  },
  {
   "cell_type": "code",
   "execution_count": 28,
   "metadata": {},
   "outputs": [
    {
     "name": "stdout",
     "output_type": "stream",
     "text": [
      "[KMP-obstacle:A] demos=10\n",
      "[KMP-obstacle:B] demos=12\n",
      "[KMP-obstacle:G] demos=13\n",
      "[KMP-obstacle:H] demos=13\n",
      "Obstacle avoidance done -> results/obstacle_kmp_ada.csv and results/obstacle_ukmp_ada.csv\n"
     ]
    }
   ],
   "source": [
    "# === C. KMP / U-KMP : Obstacle avoidance via-point (FIXED) ===\n",
    "import numpy as np\n",
    "import matplotlib.pyplot as plt\n",
    "from utils import (load_letter_all, split_indices, denormalize,\n",
    "                   rmse, endpoint_err, jerk_score, append_csv)\n",
    "\n",
    "# 依赖：上文已定义 rbf_kernel / build_ref_from_train / LETTERS / T / LENGTH / LAM\n",
    "csv_ob_kmp  = 'results/obstacle_kmp_ada.csv'\n",
    "csv_ob_ukmp = 'results/obstacle_ukmp_ada.csv'\n",
    "csv_header  = ['method','letter','fold','hit_before','hit_after','rmse','end_err','jerk']\n",
    "\n",
    "def intersects_circle(p0, p1, c, r):\n",
    "    p0, p1, c = np.array(p0), np.array(p1), np.array(c)\n",
    "    d = p1 - p0; f = p0 - c\n",
    "    a = d.dot(d); b = 2*f.dot(d); cc = f.dot(f) - r*r\n",
    "    disc = b*b - 4*a*cc\n",
    "    if disc < 0: return False\n",
    "    disc = np.sqrt(disc)\n",
    "    t1 = (-b - disc)/(2*a); t2 = (-b + disc)/(2*a)\n",
    "    return (0<=t1<=1) or (0<=t2<=1)\n",
    "\n",
    "def make_viapoint_around(c, r, entry, inflate=1.35):\n",
    "    c = np.array(c); v = entry - c\n",
    "    v = v / (np.linalg.norm(v)+1e-8)\n",
    "    return c + v * (r*inflate)\n",
    "\n",
    "for letter in LETTERS:\n",
    "    preps = load_letter_all(letter, T=T, norm='zscore')\n",
    "    N = len(preps)\n",
    "    print(f'[KMP-obstacle:{letter}] demos={N}')\n",
    "    for fold in range(N):\n",
    "        tr_idx, te_idx = split_indices(N, mode='loo', loo_test=fold)\n",
    "        preps_tr = [preps[i] for i in tr_idx]\n",
    "        prep_te  = preps[te_idx[0]]\n",
    "\n",
    "        # 参考分布 & 核\n",
    "        mu, var = build_ref_from_train(preps_tr)     # (2,T)\n",
    "        t = np.linspace(0,1,mu.shape[1])\n",
    "        K = rbf_kernel(t, t, LENGTH)                 # (T,T)\n",
    "\n",
    "        # 初始预测（普通 KMP）\n",
    "        y_pred_n = np.zeros_like(prep_te['pos'])\n",
    "        for d in range(2):\n",
    "            mu_d = mu[d]\n",
    "            alpha = np.linalg.solve(K + LAM*np.eye(T), mu_d.reshape(-1))\n",
    "            y_pred_n[d] = (K @ alpha).reshape(-1)\n",
    "        y_pred = denormalize(y_pred_n, prep_te['stats'])\n",
    "        y_true = denormalize(prep_te['pos'], prep_te['stats'])\n",
    "\n",
    "        # 非归一化尺度下设置圆障碍（放在字母中心）\n",
    "        xmin, xmax = y_true[0].min(), y_true[0].max()\n",
    "        ymin, ymax = y_true[1].min(), y_true[1].max()\n",
    "        c_den = np.array([(xmin+xmax)/2, (ymin+ymax)/2])\n",
    "        r_den = 0.25 * max(xmax-xmin, ymax-ymin)\n",
    "\n",
    "        def any_hit(path):\n",
    "            for i in range(path.shape[1]-1):\n",
    "                if intersects_circle(path[:, i], path[:, i+1], c_den, r_den):\n",
    "                    return True\n",
    "            return False\n",
    "\n",
    "        hit_before = any_hit(y_pred)\n",
    "\n",
    "        if hit_before:\n",
    "            # 最近侵入点 -> 生成圆外 via-point\n",
    "            dists = np.linalg.norm(y_pred.T - c_den, axis=1)  # (T,)\n",
    "            idx = int(np.argmin(dists))\n",
    "            entry = y_pred[:, idx]\n",
    "            via_den = make_viapoint_around(c_den, r_den, entry, inflate=1.35)\n",
    "\n",
    "            # via 映射回归一化\n",
    "            mean, std = prep_te['stats']['mean'], prep_te['stats']['std']\n",
    "            via_n = ((via_den.reshape(-1,1) - mean) / std).reshape(-1)  # (2,)\n",
    "            idx_arr = np.array([idx])                                   # (1,)\n",
    "            K_oo = K[np.ix_(idx_arr, idx_arr)]                          # (1,1)\n",
    "            K_to = K[:, idx_arr]                                        # (T,1)\n",
    "\n",
    "            # --- KMP 条件化（单点 via）---\n",
    "            y_pred_n2 = np.zeros_like(prep_te['pos'])\n",
    "            for d in range(2):\n",
    "                mu_d = mu[d].reshape(-1)                                # (T,)\n",
    "                # 右端项 b 必须是列向量 (1,1)\n",
    "                b = (via_n[d] - mu_d[idx]).reshape(1,1)                 # (1,1)\n",
    "                alpha = np.linalg.solve(K_oo + LAM*np.eye(1), b).reshape(-1)   # (1,)\n",
    "                y_pred_n2[d] = (mu_d + (K_to @ alpha).reshape(-1))      # (T,)\n",
    "            y_pred2 = denormalize(y_pred_n2, prep_te['stats'])\n",
    "            hit_after = any_hit(y_pred2)\n",
    "\n",
    "            m = rmse(y_true, y_pred2); e = endpoint_err(y_true, y_pred2); j = jerk_score(y_pred2, prep_te['dt'])\n",
    "            append_csv(csv_ob_kmp, csv_header, ['KMP', letter, fold, int(hit_before), int(hit_after), m, e, j])\n",
    "\n",
    "            # --- U-KMP（方差加权噪声）---\n",
    "            y_pred_n3 = np.zeros_like(prep_te['pos'])\n",
    "            sig = float(var[:, idx].mean())                              # 取两维方差均值\n",
    "            for d in range(2):\n",
    "                mu_d = mu[d].reshape(-1)\n",
    "                b = (via_n[d] - mu_d[idx]).reshape(1,1)                  # (1,1)\n",
    "                alpha = np.linalg.solve(K_oo + LAM*np.diag([sig]), b).reshape(-1)\n",
    "                y_pred_n3[d] = (mu_d + (K_to @ alpha).reshape(-1))\n",
    "            y_pred3 = denormalize(y_pred_n3, prep_te['stats'])\n",
    "            hit_after_u = any_hit(y_pred3)\n",
    "            m3 = rmse(y_true, y_pred3); e3 = endpoint_err(y_true, y_pred3); j3 = jerk_score(y_pred3, prep_te['dt'])\n",
    "            append_csv(csv_ob_ukmp, csv_header, ['U-KMP', letter, fold, int(hit_before), int(hit_after_u), m3, e3, j3])\n",
    "\n",
    "            # 可视化保存\n",
    "            plt.figure(figsize=(4.2,4.2))\n",
    "            plt.plot(y_true[0], y_true[1], 'k--', lw=1, label='GT')\n",
    "            plt.plot(y_pred[0], y_pred[1], 'b:', lw=1, label='before')\n",
    "            plt.plot(y_pred2[0], y_pred2[1], 'g-', lw=2, label='KMP after')\n",
    "            circle = plt.Circle(c_den, r_den, color='r', fill=False, lw=2)\n",
    "            plt.gca().add_patch(circle)\n",
    "            plt.scatter([via_den[0]],[via_den[1]], c='orange', s=30, label='via')\n",
    "            plt.gca().set_aspect('equal'); plt.title(f'{letter} fold{fold} obstacle')\n",
    "            plt.legend(frameon=False); plt.tight_layout()\n",
    "            plt.savefig(f'figs/kmp_obstacle_{letter}_fold{fold}.png', dpi=200); plt.close()\n",
    "\n",
    "        else:\n",
    "            # 未命中也记录（after=0）\n",
    "            m = rmse(y_true, y_pred); e = endpoint_err(y_true, y_pred); j = jerk_score(y_pred, prep_te['dt'])\n",
    "            append_csv(csv_ob_kmp,  csv_header, ['KMP',  letter, fold, 0, 0, m, e, j])\n",
    "            append_csv(csv_ob_ukmp, csv_header, ['U-KMP', letter, fold, 0, 0, m, e, j])\n",
    "\n",
    "print('Obstacle avoidance done ->', csv_ob_kmp, 'and', csv_ob_ukmp)"
   ]
  },
  {
   "cell_type": "code",
   "execution_count": null,
   "metadata": {},
   "outputs": [],
   "source": []
  }
 ],
 "metadata": {
  "kernelspec": {
   "display_name": "Python 3 (ipykernel)",
   "language": "python",
   "name": "python3"
  },
  "language_info": {
   "codemirror_mode": {
    "name": "ipython",
    "version": 3
   },
   "file_extension": ".py",
   "mimetype": "text/x-python",
   "name": "python",
   "nbconvert_exporter": "python",
   "pygments_lexer": "ipython3",
   "version": "3.12.4"
  }
 },
 "nbformat": 4,
 "nbformat_minor": 4
}
