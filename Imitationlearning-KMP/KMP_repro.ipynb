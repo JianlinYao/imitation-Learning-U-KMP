{
 "cells": [
  {
   "cell_type": "markdown",
   "metadata": {},
   "source": [
    " # Python Practice for KMP (reproduction)"
   ]
  },
  {
   "cell_type": "code",
   "execution_count": 2,
   "metadata": {},
   "outputs": [],
   "source": [
    "import numpy as np\n",
    "import matplotlib.pyplot as plt\n",
    "from scipy.io import loadmat\n",
    "from utils import (load_letter_all, split_indices, preprocess_demo, denormalize,\n",
    "                   rmse, endpoint_err, jerk_score, timer, append_csv)"
   ]
  },
  {
   "cell_type": "markdown",
   "metadata": {},
   "source": [
    "#################################################<br>\n",
    "Load the training data<br>\n",
    "#################################################"
   ]
  },
  {
   "cell_type": "code",
   "execution_count": 26,
   "metadata": {},
   "outputs": [],
   "source": [
    "mat = loadmat('../2Dletters/refG.mat') # Reference trajectory is extracted from five demonstrations\n",
    "dim = 2  # 2D trajectory\n",
    "Dim = 2 * dim # both position and velocity\n",
    "len = mat['refTraj'].shape[1] # length of the reference trajectory"
   ]
  },
  {
   "cell_type": "code",
   "execution_count": 27,
   "metadata": {},
   "outputs": [
    {
     "name": "stdout",
     "output_type": "stream",
     "text": [
      "(200,)\n",
      "(4, 200)\n",
      "(4, 800)\n"
     ]
    }
   ],
   "source": [
    "ref_t = np.zeros(len) # input of the reference trajectory\n",
    "ref_mu = np.zeros((Dim, len)) # mean of the reference trajectory\n",
    "ref_cov = np.zeros((Dim, Dim*len)) # covariance of the reference trajectory\n",
    "for i in range(len):\n",
    "    ref_t[i] = mat['refTraj'][0, i]['t']\n",
    "    ref_mu[:, i] = mat['refTraj'][0, i]['mu'][:, 0]\n",
    "    ref_cov[:, i*Dim:(i+1)*Dim] = mat['refTraj'][0, i]['sigma']\n",
    "print(ref_t.shape)\n",
    "print(ref_mu.shape)\n",
    "print(ref_cov.shape)"
   ]
  },
  {
   "cell_type": "markdown",
   "metadata": {},
   "source": [
    "#################################################<br>\n",
    "Define variables and set parameters for KMP<br>\n",
    "#################################################"
   ]
  },
  {
   "cell_type": "code",
   "execution_count": 28,
   "metadata": {},
   "outputs": [],
   "source": [
    "dt = 0.005 # time interval\n",
    "tau = dt * len # motion duration\n",
    "lb = 0.1 # regularization parameter\n",
    "kh = 20 # kernel parameter"
   ]
  },
  {
   "cell_type": "markdown",
   "metadata": {},
   "source": [
    "#################################################<br>\n",
    "Kernel function<br>\n",
    "#################################################"
   ]
  },
  {
   "cell_type": "code",
   "execution_count": 29,
   "metadata": {},
   "outputs": [],
   "source": [
    "def kernel(x1, x2, kh):\n",
    "    return np.exp(-kh * np.dot(x1-x2, x1-x2))"
   ]
  },
  {
   "cell_type": "code",
   "execution_count": 30,
   "metadata": {},
   "outputs": [],
   "source": [
    "def kernel_extend(ta, tb, kh, dim):\n",
    "    kt_t = kernel(ta, tb, kh)\n",
    "    kt_dt = (kernel(ta, tb+dt, kh) - kernel(ta, tb, kh)) / dt\n",
    "    kdt_t = (kernel(ta+dt, tb, kh) - kernel(ta, tb, kh)) / dt\n",
    "    kdt_dt = (kernel(ta+dt, tb+dt, kh) - kernel(ta, tb+dt, kh) - kernel(ta+dt, tb, kh) + kernel(ta, tb, kh)) / dt**2\n",
    "    kernelMatrix=np.zeros((Dim, Dim))\n",
    "    for i in range(dim):\n",
    "        kernelMatrix[i, i] = kt_t\n",
    "        kernelMatrix[i, i+dim] = kt_dt\n",
    "        kernelMatrix[i+dim, i] = kdt_t\n",
    "        kernelMatrix[i+dim, i+dim] = kdt_dt\n",
    "    return kernelMatrix"
   ]
  },
  {
   "cell_type": "markdown",
   "metadata": {},
   "source": [
    "#################################################<br>\n",
    "Prediction using KMP<br>\n",
    "#################################################"
   ]
  },
  {
   "cell_type": "code",
   "execution_count": 31,
   "metadata": {},
   "outputs": [],
   "source": [
    "Kc = np.zeros((len*Dim, len*Dim))\n",
    "for i in range(len):\n",
    "    for j in range(len):\n",
    "        Kc[i*Dim:(i+1)*Dim, j*Dim:(j+1)*Dim] = kernel_extend(ref_t[i], ref_t[j], kh, dim)\n",
    "        if i == j:\n",
    "            Kc[i*Dim:(i+1)*Dim, j*Dim:(j+1)*Dim] += lb * ref_cov[:, i*Dim:(i+1)*Dim]"
   ]
  },
  {
   "cell_type": "code",
   "execution_count": 32,
   "metadata": {},
   "outputs": [],
   "source": [
    "Kinv = np.linalg.pinv(Kc)\n",
    "Mu = ref_mu.flatten(order='F')\n",
    "KinvMu = np.matmul(Kinv, Mu) # (Kc+lb*Sigma)^{-1}*Mu"
   ]
  },
  {
   "cell_type": "code",
   "execution_count": 33,
   "metadata": {},
   "outputs": [],
   "source": [
    "ks = np.zeros((Dim, Dim*len))\n",
    "pred_pv = np.zeros((Dim, len))\n",
    "for i in range(len):\n",
    "    t = (i+1) * dt\n",
    "    for j in range(len):\n",
    "        ks[:, j*Dim:(j+1)*Dim] = kernel_extend(t, ref_t[j], kh, dim)\n",
    "    pred_pv[:, i] = np.matmul(ks, KinvMu) # ks*(Kc+lb*Sigma)^{-1}*Mu"
   ]
  },
  {
   "cell_type": "markdown",
   "metadata": {},
   "source": [
    "#################################################<br>\n",
    "Plot predicted trajectories<br>\n",
    "#################################################-"
   ]
  },
  {
   "cell_type": "code",
   "execution_count": 34,
   "metadata": {},
   "outputs": [
    {
     "data": {
      "image/png": "[encoded data removed]",
      "text/plain": [
       "<Figure size 432x288 with 1 Axes>"
      ]
     },
     "metadata": {
      "needs_background": "light"
     },
     "output_type": "display_data"
    }
   ],
   "source": [
    "plt.plot(pred_pv[0], pred_pv[1], 'r', label='kmp px-py', linewidth=2)\n",
    "plt.plot(ref_mu[0, :], ref_mu[1, :], 'g--', linewidth=1, label='refTraj px-py')\n",
    "plt.xlabel(\"px\")\n",
    "plt.ylabel(\"py\")\n",
    "plt.legend()\n",
    "plt.show()"
   ]
  },
  {
   "cell_type": "code",
   "execution_count": 35,
   "metadata": {},
   "outputs": [
    {
     "data": {
      "image/png": "[encoded data removed]",
      "text/plain": [
       "<Figure size 432x288 with 2 Axes>"
      ]
     },
     "metadata": {
      "needs_background": "light"
     },
     "output_type": "display_data"
    }
   ],
   "source": [
    "ax1 = plt.subplot(2, 1, 1)\n",
    "ax1.plot(ref_t, pred_pv[0], 'r', label='kmp px', linewidth=2)\n",
    "ax1.plot(ref_t, ref_mu[0, :], 'g--', linewidth=1, label='refTraj px')\n",
    "ax1.set_ylabel(\"px\")\n",
    "plt.legend()\n",
    "ax1.grid()\n",
    "ax2 = plt.subplot(2, 1, 2)\n",
    "ax2.plot(ref_t, pred_pv[1], 'r', label='kmp py', linewidth=2)\n",
    "ax2.plot(ref_t, ref_mu[1, :], 'g--', linewidth=1, label='refTraj py')\n",
    "ax2.set_ylabel(\"py\")\n",
    "ax2.set_xlabel(\"t\")\n",
    "plt.legend()\n",
    "ax2.grid()\n",
    "plt.show()"
   ]
  },
  {
   "cell_type": "code",
   "execution_count": 36,
   "metadata": {},
   "outputs": [
    {
     "data": {
      "image/png": "[encoded data removed]",
      "text/plain": [
       "<Figure size 432x288 with 2 Axes>"
      ]
     },
     "metadata": {
      "needs_background": "light"
     },
     "output_type": "display_data"
    }
   ],
   "source": [
    "ax1 = plt.subplot(2, 1, 1)\n",
    "ax1.plot(ref_t, pred_pv[2], 'r', label='kmp vx', linewidth=2)\n",
    "ax1.plot(ref_t, ref_mu[2, :], 'g--', linewidth=1, label='refTraj vx')\n",
    "ax1.set_ylabel(\"vx\")\n",
    "plt.legend()\n",
    "ax1.grid()\n",
    "ax2 = plt.subplot(2, 1, 2)\n",
    "ax2.plot(ref_t, pred_pv[3], 'r', label='kmp vy', linewidth=2)\n",
    "ax2.plot(ref_t, ref_mu[3, :], 'g--', linewidth=1, label='refTraj vy')\n",
    "ax2.set_ylabel(\"vy\")\n",
    "ax2.set_xlabel(\"t\")\n",
    "plt.legend()\n",
    "ax2.grid()\n",
    "plt.show()"
   ]
  },
  {
   "cell_type": "code",
   "execution_count": 6,
   "metadata": {},
   "outputs": [
    {
     "name": "stdout",
     "output_type": "stream",
     "text": [
      "[ProMP:A] demos=10\n",
      "  fold=00  RMSE=3.2162  end=1.2102  jerk=27520.7457\n",
      "  fold=01  RMSE=0.6448  end=0.6063  jerk=21011.2684\n",
      "  fold=02  RMSE=0.5299  end=0.7838  jerk=21512.7037\n",
      "  fold=03  RMSE=0.4045  end=0.1122  jerk=21300.3333\n",
      "  fold=04  RMSE=0.6319  end=0.3979  jerk=20756.3782\n",
      "  fold=05  RMSE=0.4830  end=0.0656  jerk=18964.5308\n",
      "  fold=06  RMSE=0.5462  end=0.1963  jerk=20959.8419\n",
      "  fold=07  RMSE=1.5569  end=0.1918  jerk=21562.1909\n",
      "  fold=08  RMSE=0.5049  end=1.0786  jerk=21300.2577\n",
      "  fold=09  RMSE=0.5416  end=0.9205  jerk=21696.0120\n",
      "[ProMP:B] demos=12\n",
      "  fold=00  RMSE=1.4299  end=1.1201  jerk=27018.3441\n",
      "  fold=01  RMSE=1.4813  end=0.3452  jerk=28203.2702\n",
      "  fold=02  RMSE=0.8489  end=0.4239  jerk=28428.3200\n",
      "  fold=03  RMSE=0.5407  end=0.0734  jerk=28016.8605\n",
      "  fold=04  RMSE=0.8935  end=0.4787  jerk=27369.0127\n",
      "  fold=05  RMSE=1.7554  end=0.3151  jerk=28805.0694\n",
      "  fold=06  RMSE=1.8909  end=0.9661  jerk=29904.3423\n",
      "  fold=07  RMSE=2.0999  end=0.5162  jerk=28751.8224\n",
      "  fold=08  RMSE=0.8147  end=0.5391  jerk=29742.2478\n",
      "  fold=09  RMSE=0.6094  end=0.0972  jerk=28774.9193\n",
      "  fold=10  RMSE=0.7591  end=0.5495  jerk=28587.0286\n",
      "  fold=11  RMSE=2.1289  end=0.9411  jerk=30391.7377\n",
      "[ProMP:G] demos=13\n",
      "  fold=00  RMSE=1.9345  end=0.4191  jerk=8327.9559\n",
      "  fold=01  RMSE=0.8696  end=0.4722  jerk=8602.2715\n",
      "  fold=02  RMSE=1.5437  end=0.2698  jerk=10022.4598\n",
      "  fold=03  RMSE=0.5726  end=0.5449  jerk=9707.8848\n",
      "  fold=04  RMSE=0.9532  end=0.5133  jerk=9710.7031\n",
      "  fold=05  RMSE=1.1463  end=0.8251  jerk=9291.5621\n",
      "  fold=06  RMSE=1.6335  end=0.4898  jerk=9613.1707\n",
      "  fold=07  RMSE=1.2856  end=0.5199  jerk=9086.9277\n",
      "  fold=08  RMSE=1.0245  end=0.9270  jerk=10421.0943\n",
      "  fold=09  RMSE=0.7211  end=0.1868  jerk=8865.7618\n",
      "  fold=10  RMSE=1.1300  end=0.2742  jerk=8819.3093\n",
      "  fold=11  RMSE=2.5128  end=0.4099  jerk=9515.8150\n",
      "  fold=12  RMSE=1.3471  end=0.5713  jerk=9689.2477\n",
      "[ProMP:H] demos=13\n",
      "  fold=00  RMSE=1.4939  end=0.5991  jerk=21302.1340\n",
      "  fold=01  RMSE=1.0338  end=0.5111  jerk=19493.9877\n",
      "  fold=02  RMSE=0.9868  end=0.7495  jerk=20141.1313\n",
      "  fold=03  RMSE=1.2175  end=0.9031  jerk=19501.8891\n",
      "  fold=04  RMSE=1.3560  end=0.8074  jerk=20302.3239\n",
      "  fold=05  RMSE=0.6431  end=0.5569  jerk=18603.5264\n",
      "  fold=06  RMSE=1.4889  end=0.7851  jerk=17655.7251\n",
      "  fold=07  RMSE=2.3607  end=0.9583  jerk=22415.0871\n",
      "  fold=08  RMSE=1.9434  end=1.2853  jerk=20964.7145\n",
      "  fold=09  RMSE=0.8225  end=0.1384  jerk=19247.9796\n",
      "  fold=10  RMSE=1.0042  end=0.9291  jerk=20495.2141\n",
      "  fold=11  RMSE=1.0831  end=0.3193  jerk=18981.2202\n",
      "  fold=12  RMSE=1.9470  end=0.9033  jerk=20651.5264\n",
      "ProMP reproduction LOO done -> results/reproduction_LOO.csv\n"
     ]
    }
   ],
   "source": [
    "# ===== ProMP LOO reproduction (paste & run) =====\n",
    "import numpy as np\n",
    "from utils import (load_letter_all, split_indices, denormalize,\n",
    "                   rmse, endpoint_err, jerk_score, timer, append_csv)\n",
    "\n",
    "def rbf_design_matrix(T, num_basis=20, width=50.0):\n",
    "    t = np.linspace(0,1,T)\n",
    "    c = np.linspace(0,1,num_basis)\n",
    "    Phi = np.exp(-width*(t[:,None]-c[None,:])**2)   # (T,B)\n",
    "    Phi = Phi / (Phi.sum(axis=1, keepdims=True)+1e-8)\n",
    "    return Phi\n",
    "\n",
    "def promp_fit_W(preps_train, num_basis=20, width=50.0, lam=1e-6):\n",
    "    \"\"\"用训练集学习每条演示的权重，再求 mu_w, Sigma_w\"\"\"\n",
    "    T = preps_train[0]['pos'].shape[1]\n",
    "    Phi = rbf_design_matrix(T, num_basis, width)            # (T,B)\n",
    "    # 只用位置做 ProMP（2 维），把设计矩阵扩成 block 对角\n",
    "    Phi2 = np.kron(np.eye(2), Phi)                          # (2T, 2B)\n",
    "    W = []\n",
    "    for p in preps_train:\n",
    "        y = p['pos'].reshape(-1,1)                          # vec(2,T)->(2T,1)\n",
    "        w = np.linalg.solve(Phi2.T@Phi2 + lam*np.eye(Phi2.shape[1]), Phi2.T@y).reshape(-1)\n",
    "        W.append(w)\n",
    "    W = np.stack(W, axis=0)                                 # (H, 2B)\n",
    "    mu_w = W.mean(axis=0)\n",
    "    Sigma_w = np.cov(W.T) + lam*np.eye(W.shape[1])\n",
    "    return mu_w, Sigma_w, Phi2\n",
    "\n",
    "def promp_predict(mu_w, Phi2):\n",
    "    y = Phi2 @ mu_w     # (2T,)\n",
    "    return y.reshape(2, -1)\n",
    "\n",
    "# 统一配置\n",
    "letters   = ['A','B','G','H']\n",
    "T         = 200\n",
    "num_basis = 25\n",
    "width     = 60.0\n",
    "save_csv  = 'results/reproduction_LOO.csv'\n",
    "csv_header= ['method','letter','fold','rmse','end_err','jerk','train_ms','infer_ms']\n",
    "\n",
    "for letter in letters:\n",
    "    preps = load_letter_all(letter, T=T, norm='zscore')\n",
    "    N = len(preps)\n",
    "    print(f'[ProMP:{letter}] demos={N}')\n",
    "    for fold in range(N):\n",
    "        tr_idx, te_idx = split_indices(N, mode='loo', loo_test=fold)\n",
    "        preps_tr = [preps[i] for i in tr_idx]\n",
    "        prep_te  = preps[te_idx[0]]\n",
    "\n",
    "        # 训练：得到 mu_w, Sigma_w\n",
    "        with timer() as t_train:\n",
    "            mu_w, Sigma_w, Phi2 = promp_fit_W(preps_tr, num_basis=num_basis, width=width, lam=1e-6)\n",
    "        train_ms = t_train()\n",
    "\n",
    "        # 预测：用 mu_w 生成均值轨迹\n",
    "        with timer() as t_infer:\n",
    "            y_pred_n = promp_predict(mu_w, Phi2)            # (2,T)\n",
    "        infer_ms = t_infer()\n",
    "\n",
    "        # 评估（反归一化）\n",
    "        y_pred = denormalize(y_pred_n, prep_te['stats'])\n",
    "        y_true = denormalize(prep_te['pos'], prep_te['stats'])\n",
    "        m = rmse(y_true, y_pred)\n",
    "        e = endpoint_err(y_true, y_pred)\n",
    "        j = jerk_score(y_pred, prep_te['dt'])\n",
    "\n",
    "        append_csv(save_csv, csv_header, ['ProMP', letter, fold, m, e, j, train_ms, infer_ms])\n",
    "        print(f'  fold={fold:02d}  RMSE={m:.4f}  end={e:.4f}  jerk={j:.4f}')\n",
    "print('ProMP reproduction LOO done ->', save_csv)\n"
   ]
  },
  {
   "cell_type": "code",
   "execution_count": 9,
   "metadata": {},
   "outputs": [
    {
     "name": "stdout",
     "output_type": "stream",
     "text": [
      "[KMP:A] demos=10\n",
      "  fold=00  KMP  RMSE=3.2197 end=0.9875 jerk=30368.6980 | U-KMP RMSE=3.2197 end=0.9920 jerk=30425.2620\n",
      "  fold=01  KMP  RMSE=0.6412 end=0.7877 jerk=25013.3211 | U-KMP RMSE=0.6410 end=0.7822 jerk=24843.6552\n",
      "  fold=02  KMP  RMSE=0.5203 end=0.6805 jerk=25733.2005 | U-KMP RMSE=0.5203 end=0.6841 jerk=25515.8777\n",
      "  fold=03  KMP  RMSE=0.3953 end=0.0771 jerk=25353.2504 | U-KMP RMSE=0.3950 end=0.0731 jerk=25195.4625\n",
      "  fold=04  KMP  RMSE=0.6313 end=0.3927 jerk=25229.3543 | U-KMP RMSE=0.6312 end=0.3930 jerk=25005.0578\n",
      "  fold=05  KMP  RMSE=0.4721 end=0.1328 jerk=22347.7153 | U-KMP RMSE=0.4721 end=0.1297 jerk=22254.3654\n",
      "  fold=06  KMP  RMSE=0.5382 end=0.2211 jerk=24444.7773 | U-KMP RMSE=0.5384 end=0.2172 jerk=24373.9736\n",
      "  fold=07  KMP  RMSE=1.5621 end=0.0753 jerk=25528.0377 | U-KMP RMSE=1.5622 end=0.0732 jerk=25215.1909\n",
      "  fold=08  KMP  RMSE=0.5075 end=0.9160 jerk=25277.7504 | U-KMP RMSE=0.5074 end=0.9224 jerk=25092.7589\n",
      "  fold=09  KMP  RMSE=0.5354 end=1.1042 jerk=25695.5071 | U-KMP RMSE=0.5354 end=1.0980 jerk=25676.6030\n",
      "[KMP:B] demos=12\n",
      "  fold=00  KMP  RMSE=1.4333 end=1.1515 jerk=28902.9680 | U-KMP RMSE=1.4331 end=1.1568 jerk=29045.3727\n",
      "  fold=01  KMP  RMSE=1.4883 end=0.3716 jerk=30573.9574 | U-KMP RMSE=1.4886 end=0.3779 jerk=30760.7217\n",
      "  fold=02  KMP  RMSE=0.8482 end=0.3851 jerk=30165.9846 | U-KMP RMSE=0.8478 end=0.3903 jerk=30304.2661\n",
      "  fold=03  KMP  RMSE=0.5330 end=0.1029 jerk=29752.5106 | U-KMP RMSE=0.5326 end=0.1092 jerk=29959.7679\n",
      "  fold=04  KMP  RMSE=0.8867 end=0.5099 jerk=29127.2930 | U-KMP RMSE=0.8864 end=0.5051 jerk=29291.9402\n",
      "  fold=05  KMP  RMSE=1.7546 end=0.2914 jerk=30710.5482 | U-KMP RMSE=1.7544 end=0.2981 jerk=30769.9419\n",
      "  fold=06  KMP  RMSE=1.8970 end=0.9314 jerk=32728.7565 | U-KMP RMSE=1.8974 end=0.9246 jerk=33035.8348\n",
      "  fold=07  KMP  RMSE=2.1012 end=0.5441 jerk=31273.8239 | U-KMP RMSE=2.1012 end=0.5509 jerk=31539.2949\n",
      "  fold=08  KMP  RMSE=0.8046 end=0.4925 jerk=31665.0378 | U-KMP RMSE=0.8044 end=0.4926 jerk=31981.7878\n",
      "  fold=09  KMP  RMSE=0.5977 end=0.1182 jerk=30848.1194 | U-KMP RMSE=0.5976 end=0.1126 jerk=31300.4171\n",
      "  fold=10  KMP  RMSE=0.7609 end=0.5021 jerk=30633.7446 | U-KMP RMSE=0.7610 end=0.5012 jerk=30653.4361\n",
      "  fold=11  KMP  RMSE=2.1295 end=0.9422 jerk=32462.1471 | U-KMP RMSE=2.1297 end=0.9343 jerk=32499.4671\n",
      "[KMP:G] demos=13\n",
      "  fold=00  KMP  RMSE=1.9343 end=0.4096 jerk=9991.8103 | U-KMP RMSE=1.9343 end=0.4095 jerk=10069.0684\n",
      "  fold=01  KMP  RMSE=0.8689 end=0.4729 jerk=10727.4330 | U-KMP RMSE=0.8689 end=0.4729 jerk=10882.3010\n",
      "  fold=02  KMP  RMSE=1.5450 end=0.2868 jerk=12851.5604 | U-KMP RMSE=1.5450 end=0.2883 jerk=12910.7041\n",
      "  fold=03  KMP  RMSE=0.5710 end=0.5454 jerk=11683.4941 | U-KMP RMSE=0.5711 end=0.5469 jerk=11710.7884\n",
      "  fold=04  KMP  RMSE=0.9533 end=0.5184 jerk=11755.4101 | U-KMP RMSE=0.9533 end=0.5188 jerk=11856.7268\n",
      "  fold=05  KMP  RMSE=1.1455 end=0.8254 jerk=11484.6279 | U-KMP RMSE=1.1455 end=0.8256 jerk=11673.0030\n",
      "  fold=06  KMP  RMSE=1.6332 end=0.4892 jerk=11351.2374 | U-KMP RMSE=1.6332 end=0.4894 jerk=11348.7921\n",
      "  fold=07  KMP  RMSE=1.2850 end=0.5224 jerk=11353.0305 | U-KMP RMSE=1.2850 end=0.5227 jerk=11503.9125\n",
      "  fold=08  KMP  RMSE=1.0259 end=0.9062 jerk=12672.5704 | U-KMP RMSE=1.0259 end=0.9060 jerk=12810.0178\n",
      "  fold=09  KMP  RMSE=0.7228 end=0.1864 jerk=11034.3438 | U-KMP RMSE=0.7228 end=0.1859 jerk=11224.6093\n",
      "  fold=10  KMP  RMSE=1.1305 end=0.2848 jerk=10929.4062 | U-KMP RMSE=1.1306 end=0.2851 jerk=11050.0990\n",
      "  fold=11  KMP  RMSE=2.5134 end=0.4111 jerk=11253.0471 | U-KMP RMSE=2.5134 end=0.4112 jerk=11413.0262\n",
      "  fold=12  KMP  RMSE=1.3478 end=0.5762 jerk=11957.9006 | U-KMP RMSE=1.3478 end=0.5762 jerk=12075.6286\n",
      "[KMP:H] demos=13\n",
      "  fold=00  KMP  RMSE=1.5001 end=0.5951 jerk=24050.8715 | U-KMP RMSE=1.5000 end=0.5843 jerk=23829.7605\n",
      "  fold=01  KMP  RMSE=1.0405 end=0.5107 jerk=22863.7204 | U-KMP RMSE=1.0401 end=0.5187 jerk=22679.9184\n",
      "  fold=02  KMP  RMSE=0.9855 end=0.7336 jerk=22075.0572 | U-KMP RMSE=0.9856 end=0.7424 jerk=21856.5519\n",
      "  fold=03  KMP  RMSE=1.2201 end=0.9169 jerk=21957.9758 | U-KMP RMSE=1.2199 end=0.9082 jerk=21782.1188\n",
      "  fold=04  KMP  RMSE=1.3558 end=0.7861 jerk=22353.1336 | U-KMP RMSE=1.3560 end=0.7960 jerk=22256.0451\n",
      "  fold=05  KMP  RMSE=0.6475 end=0.5252 jerk=21425.8048 | U-KMP RMSE=0.6471 end=0.5260 jerk=21389.6156\n",
      "  fold=06  KMP  RMSE=1.4923 end=0.7840 jerk=19913.6193 | U-KMP RMSE=1.4920 end=0.7761 jerk=19958.7544\n",
      "  fold=07  KMP  RMSE=2.3663 end=0.9478 jerk=24810.0683 | U-KMP RMSE=2.3663 end=0.9439 jerk=24800.9488\n",
      "  fold=08  KMP  RMSE=1.9442 end=1.3002 jerk=22930.1257 | U-KMP RMSE=1.9446 end=1.2975 jerk=22849.3388\n",
      "  fold=09  KMP  RMSE=0.8154 end=0.1571 jerk=21373.0430 | U-KMP RMSE=0.8153 end=0.1611 jerk=21222.9733\n",
      "  fold=10  KMP  RMSE=1.0032 end=0.9451 jerk=22383.3185 | U-KMP RMSE=1.0034 end=0.9500 jerk=22128.3699\n",
      "  fold=11  KMP  RMSE=1.0840 end=0.3390 jerk=21872.0247 | U-KMP RMSE=1.0835 end=0.3298 jerk=21745.3925\n",
      "  fold=12  KMP  RMSE=1.9462 end=0.9142 jerk=22453.3663 | U-KMP RMSE=1.9465 end=0.9243 jerk=22369.3571\n",
      "KMP/U-KMP reproduction LOO done -> results/reproduction_LOO_kmp.csv  &  results/reproduction_LOO_ukmp.csv\n"
     ]
    }
   ],
   "source": [
    "# ===== KMP / U-KMP : LOO reproduction (paste & run) =====\n",
    "import numpy as np\n",
    "from utils import (load_letter_all, split_indices, denormalize,\n",
    "                   rmse, endpoint_err, jerk_score, timer, append_csv)\n",
    "\n",
    "# --- 时间核（RBF） ---\n",
    "def rbf_kernel(t1, t2, length=0.06):\n",
    "    t1 = np.asarray(t1).reshape(-1,1)\n",
    "    t2 = np.asarray(t2).reshape(-1,1)\n",
    "    d2 = (t1 - t2.T)**2\n",
    "    return np.exp(-0.5 * d2 / (length**2))\n",
    "\n",
    "def build_ref_from_train(preps_train):\n",
    "    \"\"\"把训练集平均为参考分布 μ(t)、并给出逐时刻方差 Σ(t)（2 维分别统计）\"\"\"\n",
    "    T = preps_train[0]['pos'].shape[1]\n",
    "    D = preps_train[0]['pos'].shape[0]\n",
    "    stack = np.stack([p['pos'] for p in preps_train], axis=0)   # (H, D, T)\n",
    "    mu = stack.mean(axis=0)                                     # (D,T)\n",
    "    var = stack.var(axis=0) + 1e-8                              # (D,T) 逐时刻方差\n",
    "    return mu, var\n",
    "\n",
    "def kmp_predict(mu_d, var_d, t_ref, t_query, length=0.06, lam=1e-4, use_u=False):\n",
    "    \"\"\"\n",
    "    单维 KMP 预测：\n",
    "      - mu_d: (T,) 参考均值\n",
    "      - var_d: (T,) 参考方差（仅 U-KMP 使用）\n",
    "      - use_u=False：普通 KMP，正则是 lam*I\n",
    "      - use_u=True ：U-KMP，正则是 lam*diag(var_d)\n",
    "    \"\"\"\n",
    "    K = rbf_kernel(t_ref, t_ref, length)                         # (T,T)\n",
    "    if use_u:\n",
    "        R = lam * np.diag(var_d)                                 # 不确定性感知\n",
    "    else:\n",
    "        R = lam * np.eye(len(t_ref))\n",
    "    alpha = np.linalg.solve(K + R, mu_d)                         # (T,)\n",
    "    K_s = rbf_kernel(t_query, t_ref, length)                     # (Tq, T)\n",
    "    mu_q = K_s @ alpha                                           # (Tq,)\n",
    "    return mu_q\n",
    "\n",
    "# ---- 驱动：LOO 复现 ----\n",
    "letters   = ['A','B','G','H']\n",
    "T         = 200\n",
    "length    = 0.06\n",
    "lam       = 1e-4\n",
    "\n",
    "# 两个 CSV：普通 KMP 和 U-KMP 分开存\n",
    "csv_header = ['method','letter','fold','rmse','end_err','jerk','train_ms','infer_ms']\n",
    "csv_kmp    = 'results/reproduction_LOO_kmp.csv'\n",
    "csv_ukmp   = 'results/reproduction_LOO_ukmp.csv'\n",
    "\n",
    "for letter in letters:\n",
    "    preps = load_letter_all(letter, T=T, norm='zscore')\n",
    "    N = len(preps)\n",
    "    print(f'[KMP:{letter}] demos={N}')\n",
    "    for fold in range(N):\n",
    "        tr_idx, te_idx = split_indices(N, mode='loo', loo_test=fold)\n",
    "        preps_tr = [preps[i] for i in tr_idx]\n",
    "        prep_te  = preps[te_idx[0]]\n",
    "\n",
    "        # 参考分布 μ(t), Σ(t)\n",
    "        with timer() as t_train:\n",
    "            mu, var = build_ref_from_train(preps_tr)            # (2,T)\n",
    "            t_ref = np.linspace(0,1,mu.shape[1])\n",
    "        train_ms = t_train()\n",
    "\n",
    "        t_q = np.linspace(0,1,prep_te['pos'].shape[1])\n",
    "\n",
    "        # --- 普通 KMP ---\n",
    "        with timer() as t_infer:\n",
    "            y_pred_n = np.vstack([\n",
    "                kmp_predict(mu[0], var[0], t_ref, t_q, length, lam, use_u=False),\n",
    "                kmp_predict(mu[1], var[1], t_ref, t_q, length, lam, use_u=False)\n",
    "            ])\n",
    "        infer_ms = t_infer()\n",
    "\n",
    "        y_pred = denormalize(y_pred_n, prep_te['stats'])\n",
    "        y_true = denormalize(prep_te['pos'], prep_te['stats'])\n",
    "        m = rmse(y_true, y_pred)\n",
    "        e = endpoint_err(y_true, y_pred)\n",
    "        j = jerk_score(y_pred, prep_te['dt'])\n",
    "        append_csv(csv_kmp, csv_header, ['KMP', letter, fold, m, e, j, train_ms, infer_ms])\n",
    "\n",
    "        # --- U-KMP（不确定性感知） ---\n",
    "        with timer() as t_infer2:\n",
    "            y_pred_n2 = np.vstack([\n",
    "                kmp_predict(mu[0], var[0], t_ref, t_q, length, lam, use_u=True),\n",
    "                kmp_predict(mu[1], var[1], t_ref, t_q, length, lam, use_u=True)\n",
    "            ])\n",
    "        infer_ms2 = t_infer2()\n",
    "        y_pred2 = denormalize(y_pred_n2, prep_te['stats'])\n",
    "        m2 = rmse(y_true, y_pred2); e2 = endpoint_err(y_true, y_pred2); j2 = jerk_score(y_pred2, prep_te['dt'])\n",
    "        append_csv(csv_ukmp, csv_header, ['U-KMP', letter, fold, m2, e2, j2, train_ms, infer_ms2])\n",
    "\n",
    "        print(f'  fold={fold:02d}  KMP  RMSE={m:.4f} end={e:.4f} jerk={j:.4f} | '\n",
    "              f'U-KMP RMSE={m2:.4f} end={e2:.4f} jerk={j2:.4f}')\n",
    "print('KMP/U-KMP reproduction LOO done ->', csv_kmp, ' & ', csv_ukmp)\n"
   ]
  },
  {
   "cell_type": "code",
   "execution_count": null,
   "metadata": {},
   "outputs": [],
   "source": []
  }
 ],
 "metadata": {
  "kernelspec": {
   "display_name": "Python 3 (ipykernel)",
   "language": "python",
   "name": "python3"
  },
  "language_info": {
   "codemirror_mode": {
    "name": "ipython",
    "version": 3
   },
   "file_extension": ".py",
   "mimetype": "text/x-python",
   "name": "python",
   "nbconvert_exporter": "python",
   "pygments_lexer": "ipython3",
   "version": "3.12.4"
  }
 },
 "nbformat": 4,
 "nbformat_minor": 4
}
