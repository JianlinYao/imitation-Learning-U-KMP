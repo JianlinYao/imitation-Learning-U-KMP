{
 "cells": [
  {
   "cell_type": "code",
   "execution_count": 11,
   "id": "76b53564-5395-4816-bbf3-0f23495fdf36",
   "metadata": {},
   "outputs": [],
   "source": [
    "import numpy as np\n",
    "import matplotlib.pyplot as plt\n",
    "from scipy.io import loadmat\n",
    "from scipy.signal import savgol_filter\n",
    "from scipy.interpolate import interp1d\n",
    "\n",
    "np.set_printoptions(precision=4, suppress=True)\n"
   ]
  },
  {
   "cell_type": "code",
   "execution_count": 13,
   "id": "fa0ae0d6-9585-478c-812e-43464f4f7227",
   "metadata": {},
   "outputs": [],
   "source": [
    "def compute_derivatives(pos, dt):\n",
    "    vel = np.gradient(pos, axis=1) / dt\n",
    "    acc = np.gradient(vel, axis=1) / dt\n",
    "    return vel, acc\n",
    "\n",
    "def resample_traj(t, pos, T=200, kind='linear'):\n",
    "    t = np.asarray(t).reshape(-1)\n",
    "    t0, t1 = float(t[0]), float(t[-1])\n",
    "    t_rs = np.linspace(t0, t1, T)\n",
    "    pos_rs = np.zeros((pos.shape[0], T))\n",
    "    for d in range(pos.shape[0]):\n",
    "        f = interp1d(t, pos[d], kind=kind, fill_value=\"extrapolate\", assume_sorted=True)\n",
    "        pos_rs[d] = f(t_rs)\n",
    "    dt = (t1 - t0) / (T - 1) if T > 1 else 1.0\n",
    "    return t_rs, pos_rs, dt\n",
    "\n",
    "def smooth_traj(pos, window=11, poly=3):\n",
    "    if window >= pos.shape[1] or window % 2 == 0:  # window 需为奇数\n",
    "        return pos.copy()\n",
    "    pos_s = np.zeros_like(pos)\n",
    "    for d in range(pos.shape[0]):\n",
    "        pos_s[d] = savgol_filter(pos[d], window_length=window, polyorder=poly, mode='interp')\n",
    "    return pos_s\n",
    "\n",
    "def normalize_space(pos, mode='zscore'):\n",
    "    stats = {}\n",
    "    if mode == 'zscore':\n",
    "        mean = pos.mean(axis=1, keepdims=True)\n",
    "        std  = pos.std(axis=1, keepdims=True) + 1e-8\n",
    "        pos_n = (pos - mean) / std\n",
    "        stats = {'mode':'zscore','mean':mean,'std':std}\n",
    "    elif mode == 'minmax':\n",
    "        mn = pos.min(axis=1, keepdims=True)\n",
    "        mx = pos.max(axis=1, keepdims=True)\n",
    "        rng = (mx - mn) + 1e-8\n",
    "        pos_n = (pos - mn) / rng * 2.0 - 1.0\n",
    "        stats = {'mode':'minmax','min':mn,'max':mx}\n",
    "    else:\n",
    "        pos_n = pos.copy()\n",
    "        stats = {'mode':'none'}\n",
    "    return pos_n, stats\n",
    "\n",
    "def denormalize_space(pos_n, stats):\n",
    "    mode = stats.get('mode','none')\n",
    "    if mode == 'zscore':\n",
    "        return pos_n * stats['std'] + stats['mean']\n",
    "    elif mode == 'minmax':\n",
    "        return (pos_n + 1.0) * (stats['max'] - stats['min']) / 2.0 + stats['min']\n",
    "    else:\n",
    "        return pos_n\n",
    "\n",
    "def preprocess_traj_from_demos(pos, dt=0.005, T=200,\n",
    "                               smooth=True, sg_window=11, sg_poly=3,\n",
    "                               space_norm='zscore'):\n",
    "    \"\"\"\n",
    "    处理 A/B/G/H.mat 的原始演示数据：\n",
    "    输入 pos: (2,L)\n",
    "    \"\"\"\n",
    "    D, L = pos.shape\n",
    "    t = np.linspace(0.0, dt*(L-1), L)\n",
    "    t_rs, pos_rs, dt_rs = resample_traj(t, pos, T=T, kind='linear')\n",
    "    pos_sm = smooth_traj(pos_rs, window=sg_window, poly=sg_poly) if smooth else pos_rs\n",
    "    pos_n, stats = normalize_space(pos_sm, mode=space_norm)\n",
    "    vel_n, acc_n = compute_derivatives(pos_n, dt_rs)\n",
    "    return {\n",
    "        't': t_rs, 'dt': dt_rs,\n",
    "        'pos': pos_n, 'vel': vel_n, 'acc': acc_n,\n",
    "        'pos_raw': pos_rs, 'stats': stats\n",
    "    }\n"
   ]
  },
  {
   "cell_type": "code",
   "execution_count": 15,
   "id": "25a848e9-333a-4be7-8275-624d04063bf9",
   "metadata": {},
   "outputs": [
    {
     "ename": "ValueError",
     "evalue": "No axis of size 2 in pos shape ()",
     "output_type": "error",
     "traceback": [
      "\u001b[1;31m---------------------------------------------------------------------------\u001b[0m",
      "\u001b[1;31mValueError\u001b[0m                                Traceback (most recent call last)",
      "Cell \u001b[1;32mIn[15], line 9\u001b[0m\n\u001b[0;32m      7\u001b[0m demos \u001b[38;5;241m=\u001b[39m mat[\u001b[38;5;124m'\u001b[39m\u001b[38;5;124mdemos\u001b[39m\u001b[38;5;124m'\u001b[39m]                         \u001b[38;5;66;03m# 1x10 结构数组\u001b[39;00m\n\u001b[0;32m      8\u001b[0m pos_raw \u001b[38;5;241m=\u001b[39m demos[\u001b[38;5;241m0\u001b[39m, demo_idx][\u001b[38;5;124m'\u001b[39m\u001b[38;5;124mpos\u001b[39m\u001b[38;5;124m'\u001b[39m]          \u001b[38;5;66;03m# 原始 pos（object/嵌套）\u001b[39;00m\n\u001b[1;32m----> 9\u001b[0m pos \u001b[38;5;241m=\u001b[39m extract_pos_2xT(pos_raw)               \u001b[38;5;66;03m# -> (2, T)\u001b[39;00m\n\u001b[0;32m     11\u001b[0m \u001b[38;5;66;03m# 统一预处理\u001b[39;00m\n\u001b[0;32m     12\u001b[0m prep \u001b[38;5;241m=\u001b[39m preprocess_traj_from_demos(\n\u001b[0;32m     13\u001b[0m     pos, dt\u001b[38;5;241m=\u001b[39m\u001b[38;5;241m0.005\u001b[39m, T\u001b[38;5;241m=\u001b[39m\u001b[38;5;241m200\u001b[39m,\n\u001b[0;32m     14\u001b[0m     smooth\u001b[38;5;241m=\u001b[39m\u001b[38;5;28;01mTrue\u001b[39;00m, sg_window\u001b[38;5;241m=\u001b[39m\u001b[38;5;241m11\u001b[39m, sg_poly\u001b[38;5;241m=\u001b[39m\u001b[38;5;241m3\u001b[39m,\n\u001b[0;32m     15\u001b[0m     space_norm\u001b[38;5;241m=\u001b[39m\u001b[38;5;124m'\u001b[39m\u001b[38;5;124mzscore\u001b[39m\u001b[38;5;124m'\u001b[39m\n\u001b[0;32m     16\u001b[0m )\n",
      "Cell \u001b[1;32mIn[8], line 24\u001b[0m, in \u001b[0;36mextract_pos_2xT\u001b[1;34m(pos_field)\u001b[0m\n\u001b[0;32m     22\u001b[0m axes_with_2 \u001b[38;5;241m=\u001b[39m [i \u001b[38;5;28;01mfor\u001b[39;00m i,s \u001b[38;5;129;01min\u001b[39;00m \u001b[38;5;28menumerate\u001b[39m(a\u001b[38;5;241m.\u001b[39mshape) \u001b[38;5;28;01mif\u001b[39;00m s \u001b[38;5;241m==\u001b[39m \u001b[38;5;241m2\u001b[39m]\n\u001b[0;32m     23\u001b[0m \u001b[38;5;28;01mif\u001b[39;00m \u001b[38;5;129;01mnot\u001b[39;00m axes_with_2:\n\u001b[1;32m---> 24\u001b[0m     \u001b[38;5;28;01mraise\u001b[39;00m \u001b[38;5;167;01mValueError\u001b[39;00m(\u001b[38;5;124mf\u001b[39m\u001b[38;5;124m\"\u001b[39m\u001b[38;5;124mNo axis of size 2 in pos shape \u001b[39m\u001b[38;5;132;01m{\u001b[39;00ma\u001b[38;5;241m.\u001b[39mshape\u001b[38;5;132;01m}\u001b[39;00m\u001b[38;5;124m\"\u001b[39m)\n\u001b[0;32m     25\u001b[0m a \u001b[38;5;241m=\u001b[39m np\u001b[38;5;241m.\u001b[39mmoveaxis(a, axes_with_2[\u001b[38;5;241m0\u001b[39m], \u001b[38;5;241m0\u001b[39m)   \u001b[38;5;66;03m# 让通道维(2)到最前\u001b[39;00m\n\u001b[0;32m     26\u001b[0m out \u001b[38;5;241m=\u001b[39m a\u001b[38;5;241m.\u001b[39mreshape(\u001b[38;5;241m2\u001b[39m, \u001b[38;5;241m-\u001b[39m\u001b[38;5;241m1\u001b[39m)\n",
      "\u001b[1;31mValueError\u001b[0m: No axis of size 2 in pos shape ()"
     ]
    }
   ],
   "source": [
    "# 配置\n",
    "data_file = '../2Dletters/G.mat'  # 可改成 '../2Dletters/H.mat' 等\n",
    "demo_idx  = 0                     # 第几条演示（0~9）\n",
    "\n",
    "# 读取与解包\n",
    "mat = loadmat(data_file)\n",
    "demos = mat['demos']                         # 1x10 结构数组\n",
    "pos_raw = demos[0, demo_idx]['pos']          # 原始 pos（object/嵌套）\n",
    "pos = extract_pos_2xT(pos_raw)               # -> (2, T)\n",
    "\n",
    "# 统一预处理\n",
    "prep = preprocess_traj_from_demos(\n",
    "    pos, dt=0.005, T=200,\n",
    "    smooth=True, sg_window=11, sg_poly=3,\n",
    "    space_norm='zscore'\n",
    ")\n",
    "\n",
    "t_rs   = prep['t']\n",
    "pos_n  = prep['pos']   # 归一化后位置 -> 用于训练 DMP\n",
    "vel_n  = prep['vel']\n",
    "acc_n  = prep['acc']\n",
    "stats  = prep['stats']\n",
    "\n",
    "print(\"pos_n shape:\", pos_n.shape, \"dt:\", prep['dt'])\n"
   ]
  },
  {
   "cell_type": "code",
   "execution_count": 6,
   "id": "c6c6eb0e-65e8-4f97-9147-b706ee646136",
   "metadata": {},
   "outputs": [
    {
     "ename": "ValueError",
     "evalue": "setting an array element with a sequence.",
     "output_type": "error",
     "traceback": [
      "\u001b[1;31m---------------------------------------------------------------------------\u001b[0m",
      "\u001b[1;31mTypeError\u001b[0m                                 Traceback (most recent call last)",
      "\u001b[1;31mTypeError\u001b[0m: only length-1 arrays can be converted to Python scalars",
      "\nThe above exception was the direct cause of the following exception:\n",
      "\u001b[1;31mValueError\u001b[0m                                Traceback (most recent call last)",
      "Cell \u001b[1;32mIn[6], line 6\u001b[0m\n\u001b[0;32m      3\u001b[0m demos \u001b[38;5;241m=\u001b[39m mat[\u001b[38;5;124m'\u001b[39m\u001b[38;5;124mdemos\u001b[39m\u001b[38;5;124m'\u001b[39m]                  \u001b[38;5;66;03m# 1x10 结构数组\u001b[39;00m\n\u001b[0;32m      4\u001b[0m pos \u001b[38;5;241m=\u001b[39m demos[\u001b[38;5;241m0\u001b[39m,\u001b[38;5;241m0\u001b[39m][\u001b[38;5;124m'\u001b[39m\u001b[38;5;124mpos\u001b[39m\u001b[38;5;124m'\u001b[39m]               \u001b[38;5;66;03m# (2, L) -> [x; y]\u001b[39;00m\n\u001b[1;32m----> 6\u001b[0m prep \u001b[38;5;241m=\u001b[39m preprocess_traj_from_demos(\n\u001b[0;32m      7\u001b[0m     pos, dt\u001b[38;5;241m=\u001b[39m\u001b[38;5;241m0.005\u001b[39m, T\u001b[38;5;241m=\u001b[39m\u001b[38;5;241m200\u001b[39m,\n\u001b[0;32m      8\u001b[0m     smooth\u001b[38;5;241m=\u001b[39m\u001b[38;5;28;01mTrue\u001b[39;00m, sg_window\u001b[38;5;241m=\u001b[39m\u001b[38;5;241m11\u001b[39m, sg_poly\u001b[38;5;241m=\u001b[39m\u001b[38;5;241m3\u001b[39m,\n\u001b[0;32m      9\u001b[0m     space_norm\u001b[38;5;241m=\u001b[39m\u001b[38;5;124m'\u001b[39m\u001b[38;5;124mzscore\u001b[39m\u001b[38;5;124m'\u001b[39m\n\u001b[0;32m     10\u001b[0m )\n\u001b[0;32m     12\u001b[0m t_rs   \u001b[38;5;241m=\u001b[39m prep[\u001b[38;5;124m'\u001b[39m\u001b[38;5;124mt\u001b[39m\u001b[38;5;124m'\u001b[39m]\n\u001b[0;32m     13\u001b[0m pos_n  \u001b[38;5;241m=\u001b[39m prep[\u001b[38;5;124m'\u001b[39m\u001b[38;5;124mpos\u001b[39m\u001b[38;5;124m'\u001b[39m]   \u001b[38;5;66;03m# 归一化后位置 -> 用于训练 DMP\u001b[39;00m\n",
      "Cell \u001b[1;32mIn[4], line 58\u001b[0m, in \u001b[0;36mpreprocess_traj_from_demos\u001b[1;34m(pos, dt, T, smooth, sg_window, sg_poly, space_norm)\u001b[0m\n\u001b[0;32m     56\u001b[0m D, L \u001b[38;5;241m=\u001b[39m pos\u001b[38;5;241m.\u001b[39mshape\n\u001b[0;32m     57\u001b[0m t \u001b[38;5;241m=\u001b[39m np\u001b[38;5;241m.\u001b[39mlinspace(\u001b[38;5;241m0.0\u001b[39m, dt\u001b[38;5;241m*\u001b[39m(L\u001b[38;5;241m-\u001b[39m\u001b[38;5;241m1\u001b[39m), L)\n\u001b[1;32m---> 58\u001b[0m t_rs, pos_rs, dt_rs \u001b[38;5;241m=\u001b[39m resample_traj(t, pos, T\u001b[38;5;241m=\u001b[39mT, kind\u001b[38;5;241m=\u001b[39m\u001b[38;5;124m'\u001b[39m\u001b[38;5;124mlinear\u001b[39m\u001b[38;5;124m'\u001b[39m)\n\u001b[0;32m     59\u001b[0m pos_sm \u001b[38;5;241m=\u001b[39m smooth_traj(pos_rs, window\u001b[38;5;241m=\u001b[39msg_window, poly\u001b[38;5;241m=\u001b[39msg_poly) \u001b[38;5;28;01mif\u001b[39;00m smooth \u001b[38;5;28;01melse\u001b[39;00m pos_rs\n\u001b[0;32m     60\u001b[0m pos_n, stats \u001b[38;5;241m=\u001b[39m normalize_space(pos_sm, mode\u001b[38;5;241m=\u001b[39mspace_norm)\n",
      "Cell \u001b[1;32mIn[4], line 12\u001b[0m, in \u001b[0;36mresample_traj\u001b[1;34m(t, pos, T, kind)\u001b[0m\n\u001b[0;32m     10\u001b[0m pos_rs \u001b[38;5;241m=\u001b[39m np\u001b[38;5;241m.\u001b[39mzeros((pos\u001b[38;5;241m.\u001b[39mshape[\u001b[38;5;241m0\u001b[39m], T))\n\u001b[0;32m     11\u001b[0m \u001b[38;5;28;01mfor\u001b[39;00m d \u001b[38;5;129;01min\u001b[39;00m \u001b[38;5;28mrange\u001b[39m(pos\u001b[38;5;241m.\u001b[39mshape[\u001b[38;5;241m0\u001b[39m]):\n\u001b[1;32m---> 12\u001b[0m     f \u001b[38;5;241m=\u001b[39m interp1d(t, pos[d], kind\u001b[38;5;241m=\u001b[39mkind, fill_value\u001b[38;5;241m=\u001b[39m\u001b[38;5;124m\"\u001b[39m\u001b[38;5;124mextrapolate\u001b[39m\u001b[38;5;124m\"\u001b[39m, assume_sorted\u001b[38;5;241m=\u001b[39m\u001b[38;5;28;01mTrue\u001b[39;00m)\n\u001b[0;32m     13\u001b[0m     pos_rs[d] \u001b[38;5;241m=\u001b[39m f(t_rs)\n\u001b[0;32m     14\u001b[0m dt \u001b[38;5;241m=\u001b[39m (t1 \u001b[38;5;241m-\u001b[39m t0) \u001b[38;5;241m/\u001b[39m (T \u001b[38;5;241m-\u001b[39m \u001b[38;5;241m1\u001b[39m) \u001b[38;5;28;01mif\u001b[39;00m T \u001b[38;5;241m>\u001b[39m \u001b[38;5;241m1\u001b[39m \u001b[38;5;28;01melse\u001b[39;00m \u001b[38;5;241m1.0\u001b[39m\n",
      "File \u001b[1;32mC:\\ProgramData\\anaconda3\\Lib\\site-packages\\scipy\\interpolate\\_interpolate.py:536\u001b[0m, in \u001b[0;36minterp1d.__init__\u001b[1;34m(self, x, y, kind, axis, copy, bounds_error, fill_value, assume_sorted)\u001b[0m\n\u001b[0;32m    534\u001b[0m \u001b[38;5;66;03m# Force-cast y to a floating-point type, if it's not yet one\u001b[39;00m\n\u001b[0;32m    535\u001b[0m \u001b[38;5;28;01mif\u001b[39;00m \u001b[38;5;129;01mnot\u001b[39;00m \u001b[38;5;28missubclass\u001b[39m(y\u001b[38;5;241m.\u001b[39mdtype\u001b[38;5;241m.\u001b[39mtype, np\u001b[38;5;241m.\u001b[39minexact):\n\u001b[1;32m--> 536\u001b[0m     y \u001b[38;5;241m=\u001b[39m y\u001b[38;5;241m.\u001b[39mastype(np\u001b[38;5;241m.\u001b[39mfloat64)\n\u001b[0;32m    538\u001b[0m \u001b[38;5;66;03m# Backward compatibility\u001b[39;00m\n\u001b[0;32m    539\u001b[0m \u001b[38;5;28mself\u001b[39m\u001b[38;5;241m.\u001b[39maxis \u001b[38;5;241m=\u001b[39m axis \u001b[38;5;241m%\u001b[39m y\u001b[38;5;241m.\u001b[39mndim\n",
      "\u001b[1;31mValueError\u001b[0m: setting an array element with a sequence."
     ]
    }
   ],
   "source": [
    "# 修改为你的数据相对路径\n",
    "mat = loadmat('../2Dletters/G.mat')  # 或 '../2Dletters/H.mat' 等\n",
    "demos = mat['demos']                  # 1x10 结构数组\n",
    "pos = demos[0,0]['pos']               # (2, L) -> [x; y]\n",
    "\n",
    "prep = preprocess_traj_from_demos(\n",
    "    pos, dt=0.005, T=200,\n",
    "    smooth=True, sg_window=11, sg_poly=3,\n",
    "    space_norm='zscore'\n",
    ")\n",
    "\n",
    "t_rs   = prep['t']\n",
    "pos_n  = prep['pos']   # 归一化后位置 -> 用于训练 DMP\n",
    "vel_n  = prep['vel']\n",
    "acc_n  = prep['acc']\n",
    "stats  = prep['stats'] # 反归一化要用\n"
   ]
  },
  {
   "cell_type": "code",
   "execution_count": null,
   "id": "84a18621-9d50-4138-95de-4cd0f0f83b2a",
   "metadata": {},
   "outputs": [],
   "source": []
  }
 ],
 "metadata": {
  "kernelspec": {
   "display_name": "Python 3 (ipykernel)",
   "language": "python",
   "name": "python3"
  },
  "language_info": {
   "codemirror_mode": {
    "name": "ipython",
    "version": 3
   },
   "file_extension": ".py",
   "mimetype": "text/x-python",
   "name": "python",
   "nbconvert_exporter": "python",
   "pygments_lexer": "ipython3",
   "version": "3.12.4"
  }
 },
 "nbformat": 4,
 "nbformat_minor": 5
}
